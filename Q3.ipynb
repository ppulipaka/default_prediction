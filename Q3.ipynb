{
  "nbformat": 4,
  "nbformat_minor": 0,
  "metadata": {
    "kernelspec": {
      "display_name": "Python 3",
      "language": "python",
      "name": "python3"
    },
    "language_info": {
      "codemirror_mode": {
        "name": "ipython",
        "version": 3
      },
      "file_extension": ".py",
      "mimetype": "text/x-python",
      "name": "python",
      "nbconvert_exporter": "python",
      "pygments_lexer": "ipython3",
      "version": "3.6.8"
    },
    "colab": {
      "name": "Q3.ipynb",
      "provenance": [],
      "toc_visible": true
    }
  },
  "cells": [
    {
      "cell_type": "code",
      "metadata": {
        "id": "-BUnhc6gqAsJ"
      },
      "source": [
        "import pandas as pd\n",
        "import numpy as np\n",
        "import re\n",
        "import time\n",
        "\n",
        "import seaborn as sns\n",
        "import matplotlib.pyplot as plt\n",
        "\n",
        "from scipy.stats.mstats import winsorize\n",
        "\n",
        "from sklearn import preprocessing\n",
        "from sklearn.preprocessing import LabelEncoder\n",
        "from sklearn.preprocessing import StandardScaler\n",
        "from sklearn.model_selection import train_test_split, cross_val_score\n",
        "from sklearn.metrics import classification_report, confusion_matrix\n",
        "from sklearn.ensemble import RandomForestClassifier\n",
        "from sklearn.linear_model import LogisticRegression"
      ],
      "execution_count": 1,
      "outputs": []
    },
    {
      "cell_type": "code",
      "metadata": {
        "id": "QC6vS15nqAsX",
        "outputId": "90a77a33-6032-4d14-eace-efa634c335d9",
        "colab": {
          "base_uri": "https://localhost:8080/",
          "height": 374
        }
      },
      "source": [
        "df = pd.read_csv('Q2.csv')"
      ],
      "execution_count": 2,
      "outputs": [
        {
          "output_type": "error",
          "ename": "FileNotFoundError",
          "evalue": "ignored",
          "traceback": [
            "\u001b[0;31m---------------------------------------------------------------------------\u001b[0m",
            "\u001b[0;31mFileNotFoundError\u001b[0m                         Traceback (most recent call last)",
            "\u001b[0;32m<ipython-input-2-c6d45b4c4748>\u001b[0m in \u001b[0;36m<module>\u001b[0;34m()\u001b[0m\n\u001b[0;32m----> 1\u001b[0;31m \u001b[0mdf\u001b[0m \u001b[0;34m=\u001b[0m \u001b[0mpd\u001b[0m\u001b[0;34m.\u001b[0m\u001b[0mread_csv\u001b[0m\u001b[0;34m(\u001b[0m\u001b[0;34m'Q2.csv'\u001b[0m\u001b[0;34m)\u001b[0m\u001b[0;34m\u001b[0m\u001b[0;34m\u001b[0m\u001b[0m\n\u001b[0m",
            "\u001b[0;32m/usr/local/lib/python3.6/dist-packages/pandas/io/parsers.py\u001b[0m in \u001b[0;36mread_csv\u001b[0;34m(filepath_or_buffer, sep, delimiter, header, names, index_col, usecols, squeeze, prefix, mangle_dupe_cols, dtype, engine, converters, true_values, false_values, skipinitialspace, skiprows, skipfooter, nrows, na_values, keep_default_na, na_filter, verbose, skip_blank_lines, parse_dates, infer_datetime_format, keep_date_col, date_parser, dayfirst, cache_dates, iterator, chunksize, compression, thousands, decimal, lineterminator, quotechar, quoting, doublequote, escapechar, comment, encoding, dialect, error_bad_lines, warn_bad_lines, delim_whitespace, low_memory, memory_map, float_precision)\u001b[0m\n\u001b[1;32m    684\u001b[0m     )\n\u001b[1;32m    685\u001b[0m \u001b[0;34m\u001b[0m\u001b[0m\n\u001b[0;32m--> 686\u001b[0;31m     \u001b[0;32mreturn\u001b[0m \u001b[0m_read\u001b[0m\u001b[0;34m(\u001b[0m\u001b[0mfilepath_or_buffer\u001b[0m\u001b[0;34m,\u001b[0m \u001b[0mkwds\u001b[0m\u001b[0;34m)\u001b[0m\u001b[0;34m\u001b[0m\u001b[0;34m\u001b[0m\u001b[0m\n\u001b[0m\u001b[1;32m    687\u001b[0m \u001b[0;34m\u001b[0m\u001b[0m\n\u001b[1;32m    688\u001b[0m \u001b[0;34m\u001b[0m\u001b[0m\n",
            "\u001b[0;32m/usr/local/lib/python3.6/dist-packages/pandas/io/parsers.py\u001b[0m in \u001b[0;36m_read\u001b[0;34m(filepath_or_buffer, kwds)\u001b[0m\n\u001b[1;32m    450\u001b[0m \u001b[0;34m\u001b[0m\u001b[0m\n\u001b[1;32m    451\u001b[0m     \u001b[0;31m# Create the parser.\u001b[0m\u001b[0;34m\u001b[0m\u001b[0;34m\u001b[0m\u001b[0;34m\u001b[0m\u001b[0m\n\u001b[0;32m--> 452\u001b[0;31m     \u001b[0mparser\u001b[0m \u001b[0;34m=\u001b[0m \u001b[0mTextFileReader\u001b[0m\u001b[0;34m(\u001b[0m\u001b[0mfp_or_buf\u001b[0m\u001b[0;34m,\u001b[0m \u001b[0;34m**\u001b[0m\u001b[0mkwds\u001b[0m\u001b[0;34m)\u001b[0m\u001b[0;34m\u001b[0m\u001b[0;34m\u001b[0m\u001b[0m\n\u001b[0m\u001b[1;32m    453\u001b[0m \u001b[0;34m\u001b[0m\u001b[0m\n\u001b[1;32m    454\u001b[0m     \u001b[0;32mif\u001b[0m \u001b[0mchunksize\u001b[0m \u001b[0;32mor\u001b[0m \u001b[0miterator\u001b[0m\u001b[0;34m:\u001b[0m\u001b[0;34m\u001b[0m\u001b[0;34m\u001b[0m\u001b[0m\n",
            "\u001b[0;32m/usr/local/lib/python3.6/dist-packages/pandas/io/parsers.py\u001b[0m in \u001b[0;36m__init__\u001b[0;34m(self, f, engine, **kwds)\u001b[0m\n\u001b[1;32m    934\u001b[0m             \u001b[0mself\u001b[0m\u001b[0;34m.\u001b[0m\u001b[0moptions\u001b[0m\u001b[0;34m[\u001b[0m\u001b[0;34m\"has_index_names\"\u001b[0m\u001b[0;34m]\u001b[0m \u001b[0;34m=\u001b[0m \u001b[0mkwds\u001b[0m\u001b[0;34m[\u001b[0m\u001b[0;34m\"has_index_names\"\u001b[0m\u001b[0;34m]\u001b[0m\u001b[0;34m\u001b[0m\u001b[0;34m\u001b[0m\u001b[0m\n\u001b[1;32m    935\u001b[0m \u001b[0;34m\u001b[0m\u001b[0m\n\u001b[0;32m--> 936\u001b[0;31m         \u001b[0mself\u001b[0m\u001b[0;34m.\u001b[0m\u001b[0m_make_engine\u001b[0m\u001b[0;34m(\u001b[0m\u001b[0mself\u001b[0m\u001b[0;34m.\u001b[0m\u001b[0mengine\u001b[0m\u001b[0;34m)\u001b[0m\u001b[0;34m\u001b[0m\u001b[0;34m\u001b[0m\u001b[0m\n\u001b[0m\u001b[1;32m    937\u001b[0m \u001b[0;34m\u001b[0m\u001b[0m\n\u001b[1;32m    938\u001b[0m     \u001b[0;32mdef\u001b[0m \u001b[0mclose\u001b[0m\u001b[0;34m(\u001b[0m\u001b[0mself\u001b[0m\u001b[0;34m)\u001b[0m\u001b[0;34m:\u001b[0m\u001b[0;34m\u001b[0m\u001b[0;34m\u001b[0m\u001b[0m\n",
            "\u001b[0;32m/usr/local/lib/python3.6/dist-packages/pandas/io/parsers.py\u001b[0m in \u001b[0;36m_make_engine\u001b[0;34m(self, engine)\u001b[0m\n\u001b[1;32m   1166\u001b[0m     \u001b[0;32mdef\u001b[0m \u001b[0m_make_engine\u001b[0m\u001b[0;34m(\u001b[0m\u001b[0mself\u001b[0m\u001b[0;34m,\u001b[0m \u001b[0mengine\u001b[0m\u001b[0;34m=\u001b[0m\u001b[0;34m\"c\"\u001b[0m\u001b[0;34m)\u001b[0m\u001b[0;34m:\u001b[0m\u001b[0;34m\u001b[0m\u001b[0;34m\u001b[0m\u001b[0m\n\u001b[1;32m   1167\u001b[0m         \u001b[0;32mif\u001b[0m \u001b[0mengine\u001b[0m \u001b[0;34m==\u001b[0m \u001b[0;34m\"c\"\u001b[0m\u001b[0;34m:\u001b[0m\u001b[0;34m\u001b[0m\u001b[0;34m\u001b[0m\u001b[0m\n\u001b[0;32m-> 1168\u001b[0;31m             \u001b[0mself\u001b[0m\u001b[0;34m.\u001b[0m\u001b[0m_engine\u001b[0m \u001b[0;34m=\u001b[0m \u001b[0mCParserWrapper\u001b[0m\u001b[0;34m(\u001b[0m\u001b[0mself\u001b[0m\u001b[0;34m.\u001b[0m\u001b[0mf\u001b[0m\u001b[0;34m,\u001b[0m \u001b[0;34m**\u001b[0m\u001b[0mself\u001b[0m\u001b[0;34m.\u001b[0m\u001b[0moptions\u001b[0m\u001b[0;34m)\u001b[0m\u001b[0;34m\u001b[0m\u001b[0;34m\u001b[0m\u001b[0m\n\u001b[0m\u001b[1;32m   1169\u001b[0m         \u001b[0;32melse\u001b[0m\u001b[0;34m:\u001b[0m\u001b[0;34m\u001b[0m\u001b[0;34m\u001b[0m\u001b[0m\n\u001b[1;32m   1170\u001b[0m             \u001b[0;32mif\u001b[0m \u001b[0mengine\u001b[0m \u001b[0;34m==\u001b[0m \u001b[0;34m\"python\"\u001b[0m\u001b[0;34m:\u001b[0m\u001b[0;34m\u001b[0m\u001b[0;34m\u001b[0m\u001b[0m\n",
            "\u001b[0;32m/usr/local/lib/python3.6/dist-packages/pandas/io/parsers.py\u001b[0m in \u001b[0;36m__init__\u001b[0;34m(self, src, **kwds)\u001b[0m\n\u001b[1;32m   1996\u001b[0m         \u001b[0mkwds\u001b[0m\u001b[0;34m[\u001b[0m\u001b[0;34m\"usecols\"\u001b[0m\u001b[0;34m]\u001b[0m \u001b[0;34m=\u001b[0m \u001b[0mself\u001b[0m\u001b[0;34m.\u001b[0m\u001b[0musecols\u001b[0m\u001b[0;34m\u001b[0m\u001b[0;34m\u001b[0m\u001b[0m\n\u001b[1;32m   1997\u001b[0m \u001b[0;34m\u001b[0m\u001b[0m\n\u001b[0;32m-> 1998\u001b[0;31m         \u001b[0mself\u001b[0m\u001b[0;34m.\u001b[0m\u001b[0m_reader\u001b[0m \u001b[0;34m=\u001b[0m \u001b[0mparsers\u001b[0m\u001b[0;34m.\u001b[0m\u001b[0mTextReader\u001b[0m\u001b[0;34m(\u001b[0m\u001b[0msrc\u001b[0m\u001b[0;34m,\u001b[0m \u001b[0;34m**\u001b[0m\u001b[0mkwds\u001b[0m\u001b[0;34m)\u001b[0m\u001b[0;34m\u001b[0m\u001b[0;34m\u001b[0m\u001b[0m\n\u001b[0m\u001b[1;32m   1999\u001b[0m         \u001b[0mself\u001b[0m\u001b[0;34m.\u001b[0m\u001b[0munnamed_cols\u001b[0m \u001b[0;34m=\u001b[0m \u001b[0mself\u001b[0m\u001b[0;34m.\u001b[0m\u001b[0m_reader\u001b[0m\u001b[0;34m.\u001b[0m\u001b[0munnamed_cols\u001b[0m\u001b[0;34m\u001b[0m\u001b[0;34m\u001b[0m\u001b[0m\n\u001b[1;32m   2000\u001b[0m \u001b[0;34m\u001b[0m\u001b[0m\n",
            "\u001b[0;32mpandas/_libs/parsers.pyx\u001b[0m in \u001b[0;36mpandas._libs.parsers.TextReader.__cinit__\u001b[0;34m()\u001b[0m\n",
            "\u001b[0;32mpandas/_libs/parsers.pyx\u001b[0m in \u001b[0;36mpandas._libs.parsers.TextReader._setup_parser_source\u001b[0;34m()\u001b[0m\n",
            "\u001b[0;31mFileNotFoundError\u001b[0m: [Errno 2] No such file or directory: 'Q2.csv'"
          ]
        }
      ]
    },
    {
      "cell_type": "markdown",
      "metadata": {
        "id": "XZ9TJihrqAsi"
      },
      "source": [
        "## EDA"
      ]
    },
    {
      "cell_type": "markdown",
      "metadata": {
        "id": "Xlwtewm5qAsk"
      },
      "source": [
        "#### Basic overview of the data"
      ]
    },
    {
      "cell_type": "code",
      "metadata": {
        "id": "CidHkjnHqAsm",
        "outputId": "dd71e3cb-a404-40c8-b4da-68ce96875cba"
      },
      "source": [
        "df.shape"
      ],
      "execution_count": null,
      "outputs": [
        {
          "output_type": "execute_result",
          "data": {
            "text/plain": [
              "(2497, 12)"
            ]
          },
          "metadata": {
            "tags": []
          },
          "execution_count": 82
        }
      ]
    },
    {
      "cell_type": "code",
      "metadata": {
        "id": "ijehwEfEqAsz",
        "outputId": "da4cc247-7898-4fa5-975e-a9da9a3aea16"
      },
      "source": [
        "df.sample(frac=0.005)"
      ],
      "execution_count": null,
      "outputs": [
        {
          "output_type": "execute_result",
          "data": {
            "text/html": [
              "<div>\n",
              "<style scoped>\n",
              "    .dataframe tbody tr th:only-of-type {\n",
              "        vertical-align: middle;\n",
              "    }\n",
              "\n",
              "    .dataframe tbody tr th {\n",
              "        vertical-align: top;\n",
              "    }\n",
              "\n",
              "    .dataframe thead th {\n",
              "        text-align: right;\n",
              "    }\n",
              "</style>\n",
              "<table border=\"1\" class=\"dataframe\">\n",
              "  <thead>\n",
              "    <tr style=\"text-align: right;\">\n",
              "      <th></th>\n",
              "      <th>Feature1</th>\n",
              "      <th>Feature2</th>\n",
              "      <th>Feature3</th>\n",
              "      <th>Feature4</th>\n",
              "      <th>Feature5</th>\n",
              "      <th>Feature6</th>\n",
              "      <th>Feature7</th>\n",
              "      <th>Feature8</th>\n",
              "      <th>Feature9</th>\n",
              "      <th>Feature10</th>\n",
              "      <th>Feature11</th>\n",
              "      <th>DEFAULT</th>\n",
              "    </tr>\n",
              "  </thead>\n",
              "  <tbody>\n",
              "    <tr>\n",
              "      <th>1856</th>\n",
              "      <td>40000</td>\n",
              "      <td>60</td>\n",
              "      <td>0.0485</td>\n",
              "      <td>250000.0</td>\n",
              "      <td>727</td>\n",
              "      <td>Credit Card Refinancing</td>\n",
              "      <td>RENT</td>\n",
              "      <td>CA</td>\n",
              "      <td>Unknown</td>\n",
              "      <td>2019</td>\n",
              "      <td>3</td>\n",
              "      <td>1</td>\n",
              "    </tr>\n",
              "    <tr>\n",
              "      <th>2330</th>\n",
              "      <td>18000</td>\n",
              "      <td>60</td>\n",
              "      <td>0.1913</td>\n",
              "      <td>118000.0</td>\n",
              "      <td>697</td>\n",
              "      <td>Debt Consolidation</td>\n",
              "      <td>MORTGAGE</td>\n",
              "      <td>FL</td>\n",
              "      <td>Office</td>\n",
              "      <td>2019</td>\n",
              "      <td>10</td>\n",
              "      <td>0</td>\n",
              "    </tr>\n",
              "    <tr>\n",
              "      <th>2102</th>\n",
              "      <td>6650</td>\n",
              "      <td>36</td>\n",
              "      <td>17.9400</td>\n",
              "      <td>120000.0</td>\n",
              "      <td>515</td>\n",
              "      <td>debt_consolidation</td>\n",
              "      <td>rent</td>\n",
              "      <td>IN</td>\n",
              "      <td>Driver/Transportation</td>\n",
              "      <td>2018</td>\n",
              "      <td>3 years</td>\n",
              "      <td>0</td>\n",
              "    </tr>\n",
              "    <tr>\n",
              "      <th>1224</th>\n",
              "      <td>8000</td>\n",
              "      <td>36</td>\n",
              "      <td>0.3142</td>\n",
              "      <td>66000.0</td>\n",
              "      <td>667</td>\n",
              "      <td>Debt Consolidation</td>\n",
              "      <td>RENT</td>\n",
              "      <td>CT</td>\n",
              "      <td>NaN</td>\n",
              "      <td>2020</td>\n",
              "      <td>&lt; 1 year</td>\n",
              "      <td>1</td>\n",
              "    </tr>\n",
              "    <tr>\n",
              "      <th>2341</th>\n",
              "      <td>2200</td>\n",
              "      <td>36</td>\n",
              "      <td>0.2318</td>\n",
              "      <td>60000.0</td>\n",
              "      <td>712</td>\n",
              "      <td>Other</td>\n",
              "      <td>MORTGAGE</td>\n",
              "      <td>CA</td>\n",
              "      <td>Skilled Labor</td>\n",
              "      <td>2018</td>\n",
              "      <td>27</td>\n",
              "      <td>0</td>\n",
              "    </tr>\n",
              "    <tr>\n",
              "      <th>1874</th>\n",
              "      <td>20000</td>\n",
              "      <td>36</td>\n",
              "      <td>0.1621</td>\n",
              "      <td>56350.0</td>\n",
              "      <td>717</td>\n",
              "      <td>Debt Consolidation</td>\n",
              "      <td>RENT</td>\n",
              "      <td>NY</td>\n",
              "      <td>Office</td>\n",
              "      <td>2019</td>\n",
              "      <td>10</td>\n",
              "      <td>0</td>\n",
              "    </tr>\n",
              "    <tr>\n",
              "      <th>291</th>\n",
              "      <td>25000</td>\n",
              "      <td>36</td>\n",
              "      <td>0.3794</td>\n",
              "      <td>119800.0</td>\n",
              "      <td>702</td>\n",
              "      <td>Credit Card Refinancing</td>\n",
              "      <td>OWN</td>\n",
              "      <td>VA</td>\n",
              "      <td>Legal/Government/Police</td>\n",
              "      <td>2018</td>\n",
              "      <td>10</td>\n",
              "      <td>0</td>\n",
              "    </tr>\n",
              "    <tr>\n",
              "      <th>2127</th>\n",
              "      <td>35000</td>\n",
              "      <td>36</td>\n",
              "      <td>0.3562</td>\n",
              "      <td>95000.0</td>\n",
              "      <td>797</td>\n",
              "      <td>Debt Consolidation</td>\n",
              "      <td>RENT</td>\n",
              "      <td>AZ</td>\n",
              "      <td>Sales</td>\n",
              "      <td>2018</td>\n",
              "      <td>10</td>\n",
              "      <td>0</td>\n",
              "    </tr>\n",
              "    <tr>\n",
              "      <th>29</th>\n",
              "      <td>8000</td>\n",
              "      <td>36</td>\n",
              "      <td>0.1076</td>\n",
              "      <td>26000.0</td>\n",
              "      <td>662</td>\n",
              "      <td>Debt Consolidation</td>\n",
              "      <td>RENT</td>\n",
              "      <td>AZ</td>\n",
              "      <td>Food/Hospitality</td>\n",
              "      <td>2019</td>\n",
              "      <td>1</td>\n",
              "      <td>0</td>\n",
              "    </tr>\n",
              "    <tr>\n",
              "      <th>2138</th>\n",
              "      <td>20000</td>\n",
              "      <td>60</td>\n",
              "      <td>0.0991</td>\n",
              "      <td>54600.0</td>\n",
              "      <td>677</td>\n",
              "      <td>Home Improvement</td>\n",
              "      <td>MORTGAGE</td>\n",
              "      <td>TX</td>\n",
              "      <td>Others</td>\n",
              "      <td>2019</td>\n",
              "      <td>2</td>\n",
              "      <td>0</td>\n",
              "    </tr>\n",
              "    <tr>\n",
              "      <th>1312</th>\n",
              "      <td>3600</td>\n",
              "      <td>36</td>\n",
              "      <td>0.1279</td>\n",
              "      <td>50194.0</td>\n",
              "      <td>707</td>\n",
              "      <td>Debt Consolidation</td>\n",
              "      <td>RENT</td>\n",
              "      <td>KS</td>\n",
              "      <td>Food/Hospitality</td>\n",
              "      <td>2020</td>\n",
              "      <td>8</td>\n",
              "      <td>0</td>\n",
              "    </tr>\n",
              "    <tr>\n",
              "      <th>2445</th>\n",
              "      <td>22000</td>\n",
              "      <td>60</td>\n",
              "      <td>0.1474</td>\n",
              "      <td>42000.0</td>\n",
              "      <td>692</td>\n",
              "      <td>Debt Consolidation</td>\n",
              "      <td>OWN</td>\n",
              "      <td>GA</td>\n",
              "      <td>Driver/Transportation</td>\n",
              "      <td>2019</td>\n",
              "      <td>3</td>\n",
              "      <td>0</td>\n",
              "    </tr>\n",
              "  </tbody>\n",
              "</table>\n",
              "</div>"
            ],
            "text/plain": [
              "      Feature1  Feature2  Feature3  Feature4  Feature5  \\\n",
              "1856     40000        60    0.0485  250000.0       727   \n",
              "2330     18000        60    0.1913  118000.0       697   \n",
              "2102      6650        36   17.9400  120000.0       515   \n",
              "1224      8000        36    0.3142   66000.0       667   \n",
              "2341      2200        36    0.2318   60000.0       712   \n",
              "1874     20000        36    0.1621   56350.0       717   \n",
              "291      25000        36    0.3794  119800.0       702   \n",
              "2127     35000        36    0.3562   95000.0       797   \n",
              "29        8000        36    0.1076   26000.0       662   \n",
              "2138     20000        60    0.0991   54600.0       677   \n",
              "1312      3600        36    0.1279   50194.0       707   \n",
              "2445     22000        60    0.1474   42000.0       692   \n",
              "\n",
              "                     Feature6  Feature7 Feature8                 Feature9  \\\n",
              "1856  Credit Card Refinancing      RENT       CA                  Unknown   \n",
              "2330       Debt Consolidation  MORTGAGE       FL                   Office   \n",
              "2102       debt_consolidation      rent       IN    Driver/Transportation   \n",
              "1224       Debt Consolidation      RENT       CT                      NaN   \n",
              "2341                    Other  MORTGAGE       CA            Skilled Labor   \n",
              "1874       Debt Consolidation      RENT       NY                   Office   \n",
              "291   Credit Card Refinancing       OWN       VA  Legal/Government/Police   \n",
              "2127       Debt Consolidation      RENT       AZ                    Sales   \n",
              "29         Debt Consolidation      RENT       AZ         Food/Hospitality   \n",
              "2138         Home Improvement  MORTGAGE       TX                   Others   \n",
              "1312       Debt Consolidation      RENT       KS         Food/Hospitality   \n",
              "2445       Debt Consolidation       OWN       GA    Driver/Transportation   \n",
              "\n",
              "      Feature10 Feature11  DEFAULT  \n",
              "1856       2019         3        1  \n",
              "2330       2019        10        0  \n",
              "2102       2018   3 years        0  \n",
              "1224       2020  < 1 year        1  \n",
              "2341       2018        27        0  \n",
              "1874       2019        10        0  \n",
              "291        2018        10        0  \n",
              "2127       2018        10        0  \n",
              "29         2019         1        0  \n",
              "2138       2019         2        0  \n",
              "1312       2020         8        0  \n",
              "2445       2019         3        0  "
            ]
          },
          "metadata": {
            "tags": []
          },
          "execution_count": 83
        }
      ]
    },
    {
      "cell_type": "code",
      "metadata": {
        "id": "DLTNfX-KqAtD",
        "outputId": "3b1b6a1c-7c84-43d5-ba86-f09a090c61a5"
      },
      "source": [
        "df.info()"
      ],
      "execution_count": null,
      "outputs": [
        {
          "output_type": "stream",
          "text": [
            "<class 'pandas.core.frame.DataFrame'>\n",
            "RangeIndex: 2497 entries, 0 to 2496\n",
            "Data columns (total 12 columns):\n",
            " #   Column     Non-Null Count  Dtype  \n",
            "---  ------     --------------  -----  \n",
            " 0   Feature1   2497 non-null   int64  \n",
            " 1   Feature2   2497 non-null   int64  \n",
            " 2   Feature3   2497 non-null   float64\n",
            " 3   Feature4   2497 non-null   float64\n",
            " 4   Feature5   2497 non-null   int64  \n",
            " 5   Feature6   2497 non-null   object \n",
            " 6   Feature7   2497 non-null   object \n",
            " 7   Feature8   2497 non-null   object \n",
            " 8   Feature9   2094 non-null   object \n",
            " 9   Feature10  2497 non-null   int64  \n",
            " 10  Feature11  2293 non-null   object \n",
            " 11  DEFAULT    2497 non-null   int64  \n",
            "dtypes: float64(2), int64(5), object(5)\n",
            "memory usage: 234.2+ KB\n"
          ],
          "name": "stdout"
        }
      ]
    },
    {
      "cell_type": "markdown",
      "metadata": {
        "id": "ZTlz1g10qAtN"
      },
      "source": [
        "There are some features that have missing values. Let's check how many"
      ]
    },
    {
      "cell_type": "code",
      "metadata": {
        "id": "8qcIXH29qAtP",
        "outputId": "d68d61a7-67a7-44a2-c010-682b40371481"
      },
      "source": [
        "print('-- Missing values --')\n",
        "df.isnull().sum()"
      ],
      "execution_count": null,
      "outputs": [
        {
          "output_type": "stream",
          "text": [
            "-- Missing values --\n"
          ],
          "name": "stdout"
        },
        {
          "output_type": "execute_result",
          "data": {
            "text/plain": [
              "Feature1       0\n",
              "Feature2       0\n",
              "Feature3       0\n",
              "Feature4       0\n",
              "Feature5       0\n",
              "Feature6       0\n",
              "Feature7       0\n",
              "Feature8       0\n",
              "Feature9     403\n",
              "Feature10      0\n",
              "Feature11    204\n",
              "DEFAULT        0\n",
              "dtype: int64"
            ]
          },
          "metadata": {
            "tags": []
          },
          "execution_count": 85
        }
      ]
    },
    {
      "cell_type": "code",
      "metadata": {
        "id": "CShcPv1qqAtZ",
        "outputId": "c56efb85-4d88-4757-b69e-ffd58afc21b5"
      },
      "source": [
        "# Some basic statistics for each numerical data column\n",
        "\n",
        "df.describe()"
      ],
      "execution_count": null,
      "outputs": [
        {
          "output_type": "execute_result",
          "data": {
            "text/html": [
              "<div>\n",
              "<style scoped>\n",
              "    .dataframe tbody tr th:only-of-type {\n",
              "        vertical-align: middle;\n",
              "    }\n",
              "\n",
              "    .dataframe tbody tr th {\n",
              "        vertical-align: top;\n",
              "    }\n",
              "\n",
              "    .dataframe thead th {\n",
              "        text-align: right;\n",
              "    }\n",
              "</style>\n",
              "<table border=\"1\" class=\"dataframe\">\n",
              "  <thead>\n",
              "    <tr style=\"text-align: right;\">\n",
              "      <th></th>\n",
              "      <th>Feature1</th>\n",
              "      <th>Feature2</th>\n",
              "      <th>Feature3</th>\n",
              "      <th>Feature4</th>\n",
              "      <th>Feature5</th>\n",
              "      <th>Feature10</th>\n",
              "      <th>DEFAULT</th>\n",
              "    </tr>\n",
              "  </thead>\n",
              "  <tbody>\n",
              "    <tr>\n",
              "      <th>count</th>\n",
              "      <td>2497.000000</td>\n",
              "      <td>2497.000000</td>\n",
              "      <td>2497.000000</td>\n",
              "      <td>2.497000e+03</td>\n",
              "      <td>2497.000000</td>\n",
              "      <td>2497.000000</td>\n",
              "      <td>2497.000000</td>\n",
              "    </tr>\n",
              "    <tr>\n",
              "      <th>mean</th>\n",
              "      <td>17638.065679</td>\n",
              "      <td>45.813376</td>\n",
              "      <td>2.878437</td>\n",
              "      <td>9.429375e+04</td>\n",
              "      <td>694.590308</td>\n",
              "      <td>2018.920705</td>\n",
              "      <td>0.130957</td>\n",
              "    </tr>\n",
              "    <tr>\n",
              "      <th>std</th>\n",
              "      <td>10085.407799</td>\n",
              "      <td>11.801460</td>\n",
              "      <td>9.132207</td>\n",
              "      <td>1.047615e+05</td>\n",
              "      <td>33.144859</td>\n",
              "      <td>0.588450</td>\n",
              "      <td>0.337421</td>\n",
              "    </tr>\n",
              "    <tr>\n",
              "      <th>min</th>\n",
              "      <td>1000.000000</td>\n",
              "      <td>36.000000</td>\n",
              "      <td>0.000000</td>\n",
              "      <td>6.500000e+03</td>\n",
              "      <td>490.000000</td>\n",
              "      <td>2017.000000</td>\n",
              "      <td>0.000000</td>\n",
              "    </tr>\n",
              "    <tr>\n",
              "      <th>25%</th>\n",
              "      <td>10000.000000</td>\n",
              "      <td>36.000000</td>\n",
              "      <td>0.149400</td>\n",
              "      <td>5.312800e+04</td>\n",
              "      <td>672.000000</td>\n",
              "      <td>2019.000000</td>\n",
              "      <td>0.000000</td>\n",
              "    </tr>\n",
              "    <tr>\n",
              "      <th>50%</th>\n",
              "      <td>15950.000000</td>\n",
              "      <td>36.000000</td>\n",
              "      <td>0.223800</td>\n",
              "      <td>7.850000e+04</td>\n",
              "      <td>687.000000</td>\n",
              "      <td>2019.000000</td>\n",
              "      <td>0.000000</td>\n",
              "    </tr>\n",
              "    <tr>\n",
              "      <th>75%</th>\n",
              "      <td>25000.000000</td>\n",
              "      <td>60.000000</td>\n",
              "      <td>0.322300</td>\n",
              "      <td>1.150000e+05</td>\n",
              "      <td>712.000000</td>\n",
              "      <td>2019.000000</td>\n",
              "      <td>0.000000</td>\n",
              "    </tr>\n",
              "    <tr>\n",
              "      <th>max</th>\n",
              "      <td>40000.000000</td>\n",
              "      <td>60.000000</td>\n",
              "      <td>299.140000</td>\n",
              "      <td>4.255262e+06</td>\n",
              "      <td>832.000000</td>\n",
              "      <td>2020.000000</td>\n",
              "      <td>1.000000</td>\n",
              "    </tr>\n",
              "  </tbody>\n",
              "</table>\n",
              "</div>"
            ],
            "text/plain": [
              "           Feature1     Feature2     Feature3      Feature4     Feature5  \\\n",
              "count   2497.000000  2497.000000  2497.000000  2.497000e+03  2497.000000   \n",
              "mean   17638.065679    45.813376     2.878437  9.429375e+04   694.590308   \n",
              "std    10085.407799    11.801460     9.132207  1.047615e+05    33.144859   \n",
              "min     1000.000000    36.000000     0.000000  6.500000e+03   490.000000   \n",
              "25%    10000.000000    36.000000     0.149400  5.312800e+04   672.000000   \n",
              "50%    15950.000000    36.000000     0.223800  7.850000e+04   687.000000   \n",
              "75%    25000.000000    60.000000     0.322300  1.150000e+05   712.000000   \n",
              "max    40000.000000    60.000000   299.140000  4.255262e+06   832.000000   \n",
              "\n",
              "         Feature10      DEFAULT  \n",
              "count  2497.000000  2497.000000  \n",
              "mean   2018.920705     0.130957  \n",
              "std       0.588450     0.337421  \n",
              "min    2017.000000     0.000000  \n",
              "25%    2019.000000     0.000000  \n",
              "50%    2019.000000     0.000000  \n",
              "75%    2019.000000     0.000000  \n",
              "max    2020.000000     1.000000  "
            ]
          },
          "metadata": {
            "tags": []
          },
          "execution_count": 86
        }
      ]
    },
    {
      "cell_type": "markdown",
      "metadata": {
        "id": "q954sgRXqAti"
      },
      "source": [
        "Segregating categorical features and numerical features"
      ]
    },
    {
      "cell_type": "code",
      "metadata": {
        "id": "wBY5riu5qAtj"
      },
      "source": [
        "cat_features = ['Feature6','Feature7','Feature8','Feature9']\n",
        "num_features = df.select_dtypes(include=['int64','float64']).columns"
      ],
      "execution_count": null,
      "outputs": []
    },
    {
      "cell_type": "markdown",
      "metadata": {
        "id": "9vz8e9P2qAtq"
      },
      "source": [
        "That leaves us with <i>Feature11</i>. Let's check"
      ]
    },
    {
      "cell_type": "code",
      "metadata": {
        "id": "4Hp42rW_qAts",
        "outputId": "bcb4f221-4d35-4b84-c105-cb8d10cf6a69"
      },
      "source": [
        "df['Feature11'].unique()"
      ],
      "execution_count": null,
      "outputs": [
        {
          "output_type": "execute_result",
          "data": {
            "text/plain": [
              "array(['3', '20', '2 years', '0', '7', '< 1 year', '10', '4', '12', nan,\n",
              "       '6', '11', '1', '2', '16', '9', '25', '5', '23', '6 years',\n",
              "       '9 years', '21', '8', '7 years', '10+ years', '15', '8 years',\n",
              "       '17', '14', '4 years', '13', '27', '1 year', '26', '30', '3 years',\n",
              "       '5 years', '31', '22', '19', '35', '18', '24', '40', '32', '29',\n",
              "       '37', '28', '33', '36'], dtype=object)"
            ]
          },
          "metadata": {
            "tags": []
          },
          "execution_count": 88
        }
      ]
    },
    {
      "cell_type": "markdown",
      "metadata": {
        "id": "neMLDue_qAtz"
      },
      "source": [
        "<b>Note</b>: <i>Feature11</i> looks to be majorly numeric, i.e., no. of years. I assume it as numeric and will handle standardization later"
      ]
    },
    {
      "cell_type": "markdown",
      "metadata": {
        "id": "dp66VF-DqAt0"
      },
      "source": [
        "#### Distributions"
      ]
    },
    {
      "cell_type": "code",
      "metadata": {
        "id": "CcnDpL8OqAt2",
        "outputId": "8c5007b6-b893-4d07-87f8-3b661ecdd2ab"
      },
      "source": [
        "df.nunique()"
      ],
      "execution_count": null,
      "outputs": [
        {
          "output_type": "execute_result",
          "data": {
            "text/plain": [
              "Feature1      365\n",
              "Feature2        2\n",
              "Feature3     1914\n",
              "Feature4      581\n",
              "Feature5       86\n",
              "Feature6       23\n",
              "Feature7        7\n",
              "Feature8       50\n",
              "Feature9       16\n",
              "Feature10       4\n",
              "Feature11      49\n",
              "DEFAULT         2\n",
              "dtype: int64"
            ]
          },
          "metadata": {
            "tags": []
          },
          "execution_count": 89
        }
      ]
    },
    {
      "cell_type": "markdown",
      "metadata": {
        "id": "us5IUjlZqAt9"
      },
      "source": [
        "Firstly, let's check the distribution of the target variable - DEFAULT"
      ]
    },
    {
      "cell_type": "code",
      "metadata": {
        "id": "lsz89bwxqAt-",
        "outputId": "fc6c9cb1-787d-4d67-80c7-d57344551e43"
      },
      "source": [
        "df['DEFAULT'].hist(bins=2)"
      ],
      "execution_count": null,
      "outputs": [
        {
          "output_type": "execute_result",
          "data": {
            "text/plain": [
              "<matplotlib.axes._subplots.AxesSubplot at 0x230420054e0>"
            ]
          },
          "metadata": {
            "tags": []
          },
          "execution_count": 90
        },
        {
          "output_type": "display_data",
          "data": {
            "image/png": "[encoded data removed]",
            "text/plain": [
              "<Figure size 432x288 with 1 Axes>"
            ]
          },
          "metadata": {
            "tags": [],
            "needs_background": "light"
          }
        }
      ]
    },
    {
      "cell_type": "code",
      "metadata": {
        "id": "B3Tkv0beqAuG",
        "outputId": "79f275c6-2a90-408e-e9d5-931b90f3e004"
      },
      "source": [
        "df['DEFAULT'].value_counts() * 100 / df['DEFAULT'].count()"
      ],
      "execution_count": null,
      "outputs": [
        {
          "output_type": "execute_result",
          "data": {
            "text/plain": [
              "0    86.904285\n",
              "1    13.095715\n",
              "Name: DEFAULT, dtype: float64"
            ]
          },
          "metadata": {
            "tags": []
          },
          "execution_count": 91
        }
      ]
    },
    {
      "cell_type": "markdown",
      "metadata": {
        "id": "N49QYNGNqAuM"
      },
      "source": [
        "As we can see, the classes are quite imbalanced. Only about 13% of the dataset has DEFAULT = 1 label"
      ]
    },
    {
      "cell_type": "markdown",
      "metadata": {
        "id": "N0nnpZuqqAuO"
      },
      "source": [
        "#### Visualizing pair-wise relationships among numerical features"
      ]
    },
    {
      "cell_type": "code",
      "metadata": {
        "id": "lvq8-d49qAuP",
        "outputId": "f0d27d01-d7b8-490c-bbcf-d4a722cf4dda"
      },
      "source": [
        "sns.pairplot(df[['Feature5','DEFAULT']])"
      ],
      "execution_count": null,
      "outputs": [
        {
          "output_type": "execute_result",
          "data": {
            "text/plain": [
              "<seaborn.axisgrid.PairGrid at 0x23046b77128>"
            ]
          },
          "metadata": {
            "tags": []
          },
          "execution_count": 140
        },
        {
          "output_type": "display_data",
          "data": {
            "image/png": "[encoded data removed]",
            "text/plain": [
              "<Figure size 360x360 with 6 Axes>"
            ]
          },
          "metadata": {
            "tags": [],
            "needs_background": "light"
          }
        }
      ]
    },
    {
      "cell_type": "code",
      "metadata": {
        "id": "BshMELqCqAuV"
      },
      "source": [
        "# sns.pairplot(df)"
      ],
      "execution_count": null,
      "outputs": []
    },
    {
      "cell_type": "markdown",
      "metadata": {
        "id": "rDjkDaZuqAua"
      },
      "source": [
        "To help us understand the distributions of features and their relationship with each other and with the label, I'll create a few more visualizations after data-cleaning"
      ]
    },
    {
      "cell_type": "markdown",
      "metadata": {
        "id": "wvOHsZN-qAub"
      },
      "source": [
        "## Data Cleaning"
      ]
    },
    {
      "cell_type": "markdown",
      "metadata": {
        "id": "cOYIq0uIqAud"
      },
      "source": [
        "#### Feature11"
      ]
    },
    {
      "cell_type": "markdown",
      "metadata": {
        "id": "QqGJbpukqAue"
      },
      "source": [
        "As previously identified, <i>Feature11</i> looks heterogenous. Let's start with that"
      ]
    },
    {
      "cell_type": "code",
      "metadata": {
        "scrolled": true,
        "id": "GowGOHVGqAuf",
        "outputId": "f5ae8b6c-e981-482a-c9e2-f90c70ec9a08"
      },
      "source": [
        "df['Feature11'].unique()"
      ],
      "execution_count": null,
      "outputs": [
        {
          "output_type": "execute_result",
          "data": {
            "text/plain": [
              "array(['3', '20', '2 years', '0', '7', '< 1 year', '10', '4', '12', nan,\n",
              "       '6', '11', '1', '2', '16', '9', '25', '5', '23', '6 years',\n",
              "       '9 years', '21', '8', '7 years', '10+ years', '15', '8 years',\n",
              "       '17', '14', '4 years', '13', '27', '1 year', '26', '30', '3 years',\n",
              "       '5 years', '31', '22', '19', '35', '18', '24', '40', '32', '29',\n",
              "       '37', '28', '33', '36'], dtype=object)"
            ]
          },
          "metadata": {
            "tags": []
          },
          "execution_count": 93
        }
      ]
    },
    {
      "cell_type": "markdown",
      "metadata": {
        "id": "XGba-5edqAul"
      },
      "source": [
        "Extracting a numeric value from <i>Feature11</i>. For the sake of simplicity, let's take just the number without the '<' or '+' quantifiers"
      ]
    },
    {
      "cell_type": "code",
      "metadata": {
        "id": "7e_H5yfbqAum"
      },
      "source": [
        "# using regex to extract the number\n",
        "\n",
        "def extract_years(s):\n",
        "    x = re.search(\"\\d+\", str(s))\n",
        "    if x:\n",
        "        return int(x.group())\n",
        "    else:\n",
        "        return np.nan"
      ],
      "execution_count": null,
      "outputs": []
    },
    {
      "cell_type": "code",
      "metadata": {
        "id": "25EdT8K0qAus"
      },
      "source": [
        "df['Feature11'] = df['Feature11'].apply(extract_years)"
      ],
      "execution_count": null,
      "outputs": []
    },
    {
      "cell_type": "code",
      "metadata": {
        "id": "Z5S_u5n6qAuy",
        "outputId": "9aa1f842-7322-47f5-aa13-3f23decce24d"
      },
      "source": [
        "df['Feature11'].unique()"
      ],
      "execution_count": null,
      "outputs": [
        {
          "output_type": "execute_result",
          "data": {
            "text/plain": [
              "array([ 3., 20.,  2.,  0.,  7.,  1., 10.,  4., 12., nan,  6., 11., 16.,\n",
              "        9., 25.,  5., 23., 21.,  8., 15., 17., 14., 13., 27., 26., 30.,\n",
              "       31., 22., 19., 35., 18., 24., 40., 32., 29., 37., 28., 33., 36.])"
            ]
          },
          "metadata": {
            "tags": []
          },
          "execution_count": 96
        }
      ]
    },
    {
      "cell_type": "code",
      "metadata": {
        "id": "Ijm2MlY4qAu3",
        "outputId": "ab97ba07-e9f0-4910-806f-6a27b805df8e"
      },
      "source": [
        "sum(df['Feature11'].isna()) / len(df['Feature11'])"
      ],
      "execution_count": null,
      "outputs": [
        {
          "output_type": "execute_result",
          "data": {
            "text/plain": [
              "0.0816980376451742"
            ]
          },
          "metadata": {
            "tags": []
          },
          "execution_count": 97
        }
      ]
    },
    {
      "cell_type": "markdown",
      "metadata": {
        "id": "Tomz8F7AqAu7"
      },
      "source": [
        "Let's deal with the missing values now. We have 204 missing values in <i>Feature11</i>. That's about 8% of the total sample. So, ignoring corresponding samples is not an option. We could use a model to 'predict' those missing values and fill them, but with the limitation that we don't yet know what the feature really is, and its impact on the target label, I use a simple technique of replacing it with the mean of all the samples, and round it to the nearest integer"
      ]
    },
    {
      "cell_type": "code",
      "metadata": {
        "id": "hkByL6dBqAu8"
      },
      "source": [
        "df['Feature11'].fillna(round(df['Feature11'].mean()), inplace=True)"
      ],
      "execution_count": null,
      "outputs": []
    },
    {
      "cell_type": "code",
      "metadata": {
        "id": "bjQuYTWfqAvA",
        "outputId": "0b243a15-2a76-48f8-e5c4-46752df9a452"
      },
      "source": [
        "sum(df['Feature11'].isna())"
      ],
      "execution_count": null,
      "outputs": [
        {
          "output_type": "execute_result",
          "data": {
            "text/plain": [
              "0"
            ]
          },
          "metadata": {
            "tags": []
          },
          "execution_count": 99
        }
      ]
    },
    {
      "cell_type": "markdown",
      "metadata": {
        "id": "PcINQp9tqAvE"
      },
      "source": [
        "Now that we have <i>Feature11</i> as a numeric value and have handled missing values, let's visualize its distribution"
      ]
    },
    {
      "cell_type": "code",
      "metadata": {
        "scrolled": true,
        "id": "aDOzJZ-eqAvE",
        "outputId": "ed2cd9bd-cc59-42c4-bfa3-fa882ad66b57"
      },
      "source": [
        "df['Feature11'].hist(bins=30)"
      ],
      "execution_count": null,
      "outputs": [
        {
          "output_type": "execute_result",
          "data": {
            "text/plain": [
              "<matplotlib.axes._subplots.AxesSubplot at 0x23045865470>"
            ]
          },
          "metadata": {
            "tags": []
          },
          "execution_count": 100
        },
        {
          "output_type": "display_data",
          "data": {
            "image/png": "[encoded data removed]",
            "text/plain": [
              "<Figure size 432x288 with 1 Axes>"
            ]
          },
          "metadata": {
            "tags": [],
            "needs_background": "light"
          }
        }
      ]
    },
    {
      "cell_type": "markdown",
      "metadata": {
        "id": "JH05lRzCqAvK"
      },
      "source": [
        "#### Feature6"
      ]
    },
    {
      "cell_type": "markdown",
      "metadata": {
        "id": "y2fnAC1dqAvK"
      },
      "source": [
        "Let's move on to the categorical features. Values in <i>Feature6</i> look repetitive with minor differences, hence standardizing"
      ]
    },
    {
      "cell_type": "code",
      "metadata": {
        "id": "YNiP2FX_qAvL"
      },
      "source": [
        "df['Feature6'] = df['Feature6'].apply(str.lower)"
      ],
      "execution_count": null,
      "outputs": []
    },
    {
      "cell_type": "code",
      "metadata": {
        "id": "RFOuyJLDqAvP",
        "outputId": "6cb8fc21-8aa6-46c2-d495-bbed2d773216"
      },
      "source": [
        "df['Feature6'].value_counts()"
      ],
      "execution_count": null,
      "outputs": [
        {
          "output_type": "execute_result",
          "data": {
            "text/plain": [
              "debt consolidation         1229\n",
              "credit card refinancing     466\n",
              "debt_consolidation          223\n",
              "other                       161\n",
              "home improvement            124\n",
              "credit_card                 106\n",
              "other major purchase         29\n",
              "business                     25\n",
              "home_improvement             24\n",
              "medical expenses             23\n",
              "home purchase                20\n",
              "vehicle purchase             17\n",
              "vacation                     17\n",
              "moving or relocation         13\n",
              "major_purchase                7\n",
              "house                         4\n",
              "medical                       4\n",
              "car                           2\n",
              "small_business                1\n",
              "green loan                    1\n",
              "moving                        1\n",
              "Name: Feature6, dtype: int64"
            ]
          },
          "metadata": {
            "tags": []
          },
          "execution_count": 102
        }
      ]
    },
    {
      "cell_type": "code",
      "metadata": {
        "id": "G8VQRm4GqAvY"
      },
      "source": [
        "# creating a mapping dictionary for standardization\n",
        "\n",
        "replace_dict = {\n",
        "    'debt_consolidation'  : 'debt consolidation',\n",
        "    'credit_card'         : 'credit card refinancing',\n",
        "    'home_improvement'    : 'home improvement',\n",
        "    'car'                 : 'vehicle purchase',\n",
        "    'small_business'      : 'business',\n",
        "    'other major purchase': 'other',\n",
        "    'medical expenses'    : 'medical',\n",
        "    'house'               : 'home purchase',\n",
        "    'major_purchase'      : 'other',\n",
        "    'moving or relocation': 'moving'\n",
        "}"
      ],
      "execution_count": null,
      "outputs": []
    },
    {
      "cell_type": "code",
      "metadata": {
        "id": "Pt0ZL20QqAve"
      },
      "source": [
        "df['Feature6'].replace(replace_dict, inplace=True)"
      ],
      "execution_count": null,
      "outputs": []
    },
    {
      "cell_type": "markdown",
      "metadata": {
        "id": "KP7QJ0QIqAvj"
      },
      "source": [
        "Now that we've standardized, let's check the proportion of occurances of each category in <i>Feature6</i>"
      ]
    },
    {
      "cell_type": "code",
      "metadata": {
        "id": "Y-9R7tqgqAvk"
      },
      "source": [
        "feature6_freq = df['Feature6'].value_counts() * 100 / df['Feature6'].count()"
      ],
      "execution_count": null,
      "outputs": []
    },
    {
      "cell_type": "code",
      "metadata": {
        "id": "BvIbid7nqAvq",
        "outputId": "5d878521-7f15-43d8-e3db-3f56cb12e837"
      },
      "source": [
        "feature6_freq"
      ],
      "execution_count": null,
      "outputs": [
        {
          "output_type": "execute_result",
          "data": {
            "text/plain": [
              "debt consolidation         58.149780\n",
              "credit card refinancing    22.907489\n",
              "other                       7.889467\n",
              "home improvement            5.927113\n",
              "medical                     1.081298\n",
              "business                    1.041249\n",
              "home purchase               0.961153\n",
              "vehicle purchase            0.760913\n",
              "vacation                    0.680817\n",
              "moving                      0.560673\n",
              "green loan                  0.040048\n",
              "Name: Feature6, dtype: float64"
            ]
          },
          "metadata": {
            "tags": []
          },
          "execution_count": 106
        }
      ]
    },
    {
      "cell_type": "markdown",
      "metadata": {
        "id": "Jm5TP9plqAvu"
      },
      "source": [
        "While the top 4 categories make up almost 95% of the data, the other categories do not account for much and may add noise to the model. Let's bucket them in <i>'other'</i> category"
      ]
    },
    {
      "cell_type": "code",
      "metadata": {
        "id": "VmCEa8B7qAvv"
      },
      "source": [
        "feature6_noise = list(feature6_freq[feature6_freq < 5].index)"
      ],
      "execution_count": null,
      "outputs": []
    },
    {
      "cell_type": "code",
      "metadata": {
        "id": "MJXYAcOHqAv0"
      },
      "source": [
        "replace_dict2 = {x:'other' for x in feature6_noise}"
      ],
      "execution_count": null,
      "outputs": []
    },
    {
      "cell_type": "code",
      "metadata": {
        "id": "fFACIwuMqAv5"
      },
      "source": [
        "df['Feature6'].replace(replace_dict2, inplace=True)"
      ],
      "execution_count": null,
      "outputs": []
    },
    {
      "cell_type": "code",
      "metadata": {
        "id": "fPNSThcJqAv-",
        "outputId": "7906fa1c-9b12-44b8-fbb7-a3e98326e785"
      },
      "source": [
        "df['Feature6'].value_counts()"
      ],
      "execution_count": null,
      "outputs": [
        {
          "output_type": "execute_result",
          "data": {
            "text/plain": [
              "debt consolidation         1452\n",
              "credit card refinancing     572\n",
              "other                       325\n",
              "home improvement            148\n",
              "Name: Feature6, dtype: int64"
            ]
          },
          "metadata": {
            "tags": []
          },
          "execution_count": 110
        }
      ]
    },
    {
      "cell_type": "markdown",
      "metadata": {
        "id": "DKFuiaeoqAwD"
      },
      "source": [
        "#### Feature7"
      ]
    },
    {
      "cell_type": "code",
      "metadata": {
        "id": "EOtzqkF5qAwE",
        "outputId": "fbfd9006-6a09-4e60-e033-cb612a63e28a"
      },
      "source": [
        "df['Feature7'].value_counts()"
      ],
      "execution_count": null,
      "outputs": [
        {
          "output_type": "execute_result",
          "data": {
            "text/plain": [
              "MORTGAGE    930\n",
              "RENT        894\n",
              "OWN         272\n",
              "mortgage    211\n",
              "rent        140\n",
              "own          45\n",
              "ANY           5\n",
              "Name: Feature7, dtype: int64"
            ]
          },
          "metadata": {
            "tags": []
          },
          "execution_count": 111
        }
      ]
    },
    {
      "cell_type": "markdown",
      "metadata": {
        "id": "Nl39w_R7qAwJ"
      },
      "source": [
        "As seen above, categories in <i>Feature7</i> are repetitive. Converting all to lowercase"
      ]
    },
    {
      "cell_type": "code",
      "metadata": {
        "id": "ApMhVmaZqAwK"
      },
      "source": [
        "df['Feature7'] = df['Feature7'].apply(str.lower)"
      ],
      "execution_count": null,
      "outputs": []
    },
    {
      "cell_type": "code",
      "metadata": {
        "id": "lOELd3XaqAwP",
        "outputId": "70d20ea2-9c5e-42b7-a610-9846dde81afc"
      },
      "source": [
        "df['Feature7'].value_counts()"
      ],
      "execution_count": null,
      "outputs": [
        {
          "output_type": "execute_result",
          "data": {
            "text/plain": [
              "mortgage    1141\n",
              "rent        1034\n",
              "own          317\n",
              "any            5\n",
              "Name: Feature7, dtype: int64"
            ]
          },
          "metadata": {
            "tags": []
          },
          "execution_count": 113
        }
      ]
    },
    {
      "cell_type": "markdown",
      "metadata": {
        "id": "Tt99qld6qAwU"
      },
      "source": [
        "The category <i>'any'</i> occurs only in 5 samples in the dataset, amounting to ~ 0.2% of the samples. Having an extra category with such low frequency might not add additional value to the model, and might even create noise. I'll consider them as missing values and replace with most frequent value, i.e., <i>'mortgage'</i>"
      ]
    },
    {
      "cell_type": "code",
      "metadata": {
        "id": "K0fRPBFkqAwV"
      },
      "source": [
        "df['Feature7'].replace({'any':'mortgage'}, inplace=True)"
      ],
      "execution_count": null,
      "outputs": []
    },
    {
      "cell_type": "code",
      "metadata": {
        "id": "OJCt6o-SqAwp",
        "outputId": "f7bd3f3e-57c7-4fd4-b11a-deb7611f7cda"
      },
      "source": [
        "df['Feature7'].value_counts()"
      ],
      "execution_count": null,
      "outputs": [
        {
          "output_type": "execute_result",
          "data": {
            "text/plain": [
              "mortgage    1146\n",
              "rent        1034\n",
              "own          317\n",
              "Name: Feature7, dtype: int64"
            ]
          },
          "metadata": {
            "tags": []
          },
          "execution_count": 115
        }
      ]
    },
    {
      "cell_type": "markdown",
      "metadata": {
        "id": "4x633QyDqAwy"
      },
      "source": [
        "#### Feature 9"
      ]
    },
    {
      "cell_type": "code",
      "metadata": {
        "id": "fR1BSfIaqAwz",
        "outputId": "9316687d-cc60-4399-8ce8-a35bfdc82dfe"
      },
      "source": [
        "df['Feature9'].value_counts(dropna=False)"
      ],
      "execution_count": null,
      "outputs": [
        {
          "output_type": "execute_result",
          "data": {
            "text/plain": [
              "Office                     491\n",
              "NaN                        403\n",
              "Others                     392\n",
              "Skilled Labor              233\n",
              "Health care                155\n",
              "IT/Engineering             111\n",
              "Sales                      109\n",
              "Driver/Transportation       99\n",
              "Legal/Government/Police     84\n",
              "Education                   76\n",
              "Unknown                     72\n",
              "Construction/Labor          68\n",
              "Food/Hospitality            60\n",
              "Small Business              54\n",
              "Customer Service            52\n",
              "Real Estate                 26\n",
              "Travel                      12\n",
              "Name: Feature9, dtype: int64"
            ]
          },
          "metadata": {
            "tags": []
          },
          "execution_count": 116
        }
      ]
    },
    {
      "cell_type": "markdown",
      "metadata": {
        "id": "mE4FyKMNqAw5"
      },
      "source": [
        "<i>Feature9</i> has 403 missing values, and is almost as frequent as the highest real category, <i>'Office'</i>. We can categorize it as 'Missing'. However, there is also an another category called <i>'Unknown'</i>. I replace all missing values with <i>'Unknown'</i>, assuming that the missing values are indeed not known to us"
      ]
    },
    {
      "cell_type": "code",
      "metadata": {
        "id": "AcI9jwPOqAw6"
      },
      "source": [
        "df['Feature9'].fillna('Unknown', inplace=True)"
      ],
      "execution_count": null,
      "outputs": []
    },
    {
      "cell_type": "code",
      "metadata": {
        "id": "RsEpFGv9qAxC",
        "outputId": "1938a41d-3f2a-4eab-95ea-879eac09baec"
      },
      "source": [
        "df['Feature9'].value_counts()"
      ],
      "execution_count": null,
      "outputs": [
        {
          "output_type": "execute_result",
          "data": {
            "text/plain": [
              "Office                     491\n",
              "Unknown                    475\n",
              "Others                     392\n",
              "Skilled Labor              233\n",
              "Health care                155\n",
              "IT/Engineering             111\n",
              "Sales                      109\n",
              "Driver/Transportation       99\n",
              "Legal/Government/Police     84\n",
              "Education                   76\n",
              "Construction/Labor          68\n",
              "Food/Hospitality            60\n",
              "Small Business              54\n",
              "Customer Service            52\n",
              "Real Estate                 26\n",
              "Travel                      12\n",
              "Name: Feature9, dtype: int64"
            ]
          },
          "metadata": {
            "tags": []
          },
          "execution_count": 118
        }
      ]
    },
    {
      "cell_type": "code",
      "metadata": {
        "id": "B9jXlpPuqAxL",
        "outputId": "f7b5815a-dd11-497a-e4b2-e06f7235c875"
      },
      "source": [
        "df['Feature9'].value_counts() * 100 / df['Feature9'].count()"
      ],
      "execution_count": null,
      "outputs": [
        {
          "output_type": "execute_result",
          "data": {
            "text/plain": [
              "Office                     19.663596\n",
              "Unknown                    19.022827\n",
              "Others                     15.698839\n",
              "Skilled Labor               9.331197\n",
              "Health care                 6.207449\n",
              "IT/Engineering              4.445334\n",
              "Sales                       4.365238\n",
              "Driver/Transportation       3.964758\n",
              "Legal/Government/Police     3.364037\n",
              "Education                   3.043652\n",
              "Construction/Labor          2.723268\n",
              "Food/Hospitality            2.402883\n",
              "Small Business              2.162595\n",
              "Customer Service            2.082499\n",
              "Real Estate                 1.041249\n",
              "Travel                      0.480577\n",
              "Name: Feature9, dtype: float64"
            ]
          },
          "metadata": {
            "tags": []
          },
          "execution_count": 119
        }
      ]
    },
    {
      "cell_type": "markdown",
      "metadata": {
        "id": "GZFZHQrGqAxQ"
      },
      "source": [
        "This is how our cleaned dataset looks like"
      ]
    },
    {
      "cell_type": "code",
      "metadata": {
        "id": "o-mN_lLlqAxR",
        "outputId": "f96c8038-2fac-43c4-8f08-c368aa53546f"
      },
      "source": [
        "df.sample(frac=0.005, random_state=42)"
      ],
      "execution_count": null,
      "outputs": [
        {
          "output_type": "execute_result",
          "data": {
            "text/html": [
              "<div>\n",
              "<style scoped>\n",
              "    .dataframe tbody tr th:only-of-type {\n",
              "        vertical-align: middle;\n",
              "    }\n",
              "\n",
              "    .dataframe tbody tr th {\n",
              "        vertical-align: top;\n",
              "    }\n",
              "\n",
              "    .dataframe thead th {\n",
              "        text-align: right;\n",
              "    }\n",
              "</style>\n",
              "<table border=\"1\" class=\"dataframe\">\n",
              "  <thead>\n",
              "    <tr style=\"text-align: right;\">\n",
              "      <th></th>\n",
              "      <th>Feature1</th>\n",
              "      <th>Feature2</th>\n",
              "      <th>Feature3</th>\n",
              "      <th>Feature4</th>\n",
              "      <th>Feature5</th>\n",
              "      <th>Feature6</th>\n",
              "      <th>Feature7</th>\n",
              "      <th>Feature8</th>\n",
              "      <th>Feature9</th>\n",
              "      <th>Feature10</th>\n",
              "      <th>Feature11</th>\n",
              "      <th>DEFAULT</th>\n",
              "    </tr>\n",
              "  </thead>\n",
              "  <tbody>\n",
              "    <tr>\n",
              "      <th>2292</th>\n",
              "      <td>40000</td>\n",
              "      <td>60</td>\n",
              "      <td>5.0800</td>\n",
              "      <td>198000.0</td>\n",
              "      <td>745</td>\n",
              "      <td>other</td>\n",
              "      <td>mortgage</td>\n",
              "      <td>VA</td>\n",
              "      <td>Office</td>\n",
              "      <td>2020</td>\n",
              "      <td>8.0</td>\n",
              "      <td>0</td>\n",
              "    </tr>\n",
              "    <tr>\n",
              "      <th>2399</th>\n",
              "      <td>26575</td>\n",
              "      <td>60</td>\n",
              "      <td>0.3061</td>\n",
              "      <td>110000.0</td>\n",
              "      <td>697</td>\n",
              "      <td>debt consolidation</td>\n",
              "      <td>mortgage</td>\n",
              "      <td>NY</td>\n",
              "      <td>Skilled Labor</td>\n",
              "      <td>2019</td>\n",
              "      <td>9.0</td>\n",
              "      <td>0</td>\n",
              "    </tr>\n",
              "    <tr>\n",
              "      <th>902</th>\n",
              "      <td>22500</td>\n",
              "      <td>60</td>\n",
              "      <td>0.1450</td>\n",
              "      <td>142000.0</td>\n",
              "      <td>662</td>\n",
              "      <td>credit card refinancing</td>\n",
              "      <td>mortgage</td>\n",
              "      <td>WA</td>\n",
              "      <td>Office</td>\n",
              "      <td>2018</td>\n",
              "      <td>2.0</td>\n",
              "      <td>0</td>\n",
              "    </tr>\n",
              "    <tr>\n",
              "      <th>2238</th>\n",
              "      <td>6000</td>\n",
              "      <td>36</td>\n",
              "      <td>0.0888</td>\n",
              "      <td>53000.0</td>\n",
              "      <td>687</td>\n",
              "      <td>debt consolidation</td>\n",
              "      <td>own</td>\n",
              "      <td>MD</td>\n",
              "      <td>Office</td>\n",
              "      <td>2019</td>\n",
              "      <td>0.0</td>\n",
              "      <td>0</td>\n",
              "    </tr>\n",
              "    <tr>\n",
              "      <th>1285</th>\n",
              "      <td>35000</td>\n",
              "      <td>60</td>\n",
              "      <td>0.1315</td>\n",
              "      <td>105000.0</td>\n",
              "      <td>822</td>\n",
              "      <td>debt consolidation</td>\n",
              "      <td>mortgage</td>\n",
              "      <td>PA</td>\n",
              "      <td>IT/Engineering</td>\n",
              "      <td>2019</td>\n",
              "      <td>2.0</td>\n",
              "      <td>0</td>\n",
              "    </tr>\n",
              "    <tr>\n",
              "      <th>56</th>\n",
              "      <td>35000</td>\n",
              "      <td>60</td>\n",
              "      <td>0.2175</td>\n",
              "      <td>70000.0</td>\n",
              "      <td>702</td>\n",
              "      <td>debt consolidation</td>\n",
              "      <td>mortgage</td>\n",
              "      <td>TX</td>\n",
              "      <td>Legal/Government/Police</td>\n",
              "      <td>2019</td>\n",
              "      <td>10.0</td>\n",
              "      <td>0</td>\n",
              "    </tr>\n",
              "    <tr>\n",
              "      <th>1987</th>\n",
              "      <td>40000</td>\n",
              "      <td>60</td>\n",
              "      <td>0.2646</td>\n",
              "      <td>101000.0</td>\n",
              "      <td>712</td>\n",
              "      <td>other</td>\n",
              "      <td>mortgage</td>\n",
              "      <td>PA</td>\n",
              "      <td>Unknown</td>\n",
              "      <td>2019</td>\n",
              "      <td>6.0</td>\n",
              "      <td>0</td>\n",
              "    </tr>\n",
              "    <tr>\n",
              "      <th>802</th>\n",
              "      <td>40000</td>\n",
              "      <td>36</td>\n",
              "      <td>0.2152</td>\n",
              "      <td>92720.0</td>\n",
              "      <td>702</td>\n",
              "      <td>debt consolidation</td>\n",
              "      <td>rent</td>\n",
              "      <td>CA</td>\n",
              "      <td>Unknown</td>\n",
              "      <td>2019</td>\n",
              "      <td>1.0</td>\n",
              "      <td>0</td>\n",
              "    </tr>\n",
              "    <tr>\n",
              "      <th>812</th>\n",
              "      <td>10000</td>\n",
              "      <td>36</td>\n",
              "      <td>0.2506</td>\n",
              "      <td>96000.0</td>\n",
              "      <td>692</td>\n",
              "      <td>credit card refinancing</td>\n",
              "      <td>rent</td>\n",
              "      <td>TX</td>\n",
              "      <td>Skilled Labor</td>\n",
              "      <td>2019</td>\n",
              "      <td>5.0</td>\n",
              "      <td>1</td>\n",
              "    </tr>\n",
              "    <tr>\n",
              "      <th>903</th>\n",
              "      <td>16000</td>\n",
              "      <td>60</td>\n",
              "      <td>0.2464</td>\n",
              "      <td>33600.0</td>\n",
              "      <td>697</td>\n",
              "      <td>debt consolidation</td>\n",
              "      <td>mortgage</td>\n",
              "      <td>NC</td>\n",
              "      <td>Unknown</td>\n",
              "      <td>2019</td>\n",
              "      <td>0.0</td>\n",
              "      <td>0</td>\n",
              "    </tr>\n",
              "    <tr>\n",
              "      <th>332</th>\n",
              "      <td>19050</td>\n",
              "      <td>36</td>\n",
              "      <td>13.3000</td>\n",
              "      <td>160000.0</td>\n",
              "      <td>675</td>\n",
              "      <td>debt consolidation</td>\n",
              "      <td>own</td>\n",
              "      <td>OR</td>\n",
              "      <td>Sales</td>\n",
              "      <td>2019</td>\n",
              "      <td>1.0</td>\n",
              "      <td>0</td>\n",
              "    </tr>\n",
              "    <tr>\n",
              "      <th>1483</th>\n",
              "      <td>17000</td>\n",
              "      <td>60</td>\n",
              "      <td>0.1961</td>\n",
              "      <td>69400.0</td>\n",
              "      <td>662</td>\n",
              "      <td>debt consolidation</td>\n",
              "      <td>rent</td>\n",
              "      <td>FL</td>\n",
              "      <td>Office</td>\n",
              "      <td>2019</td>\n",
              "      <td>4.0</td>\n",
              "      <td>0</td>\n",
              "    </tr>\n",
              "  </tbody>\n",
              "</table>\n",
              "</div>"
            ],
            "text/plain": [
              "      Feature1  Feature2  Feature3  Feature4  Feature5  \\\n",
              "2292     40000        60    5.0800  198000.0       745   \n",
              "2399     26575        60    0.3061  110000.0       697   \n",
              "902      22500        60    0.1450  142000.0       662   \n",
              "2238      6000        36    0.0888   53000.0       687   \n",
              "1285     35000        60    0.1315  105000.0       822   \n",
              "56       35000        60    0.2175   70000.0       702   \n",
              "1987     40000        60    0.2646  101000.0       712   \n",
              "802      40000        36    0.2152   92720.0       702   \n",
              "812      10000        36    0.2506   96000.0       692   \n",
              "903      16000        60    0.2464   33600.0       697   \n",
              "332      19050        36   13.3000  160000.0       675   \n",
              "1483     17000        60    0.1961   69400.0       662   \n",
              "\n",
              "                     Feature6  Feature7 Feature8                 Feature9  \\\n",
              "2292                    other  mortgage       VA                   Office   \n",
              "2399       debt consolidation  mortgage       NY            Skilled Labor   \n",
              "902   credit card refinancing  mortgage       WA                   Office   \n",
              "2238       debt consolidation       own       MD                   Office   \n",
              "1285       debt consolidation  mortgage       PA           IT/Engineering   \n",
              "56         debt consolidation  mortgage       TX  Legal/Government/Police   \n",
              "1987                    other  mortgage       PA                  Unknown   \n",
              "802        debt consolidation      rent       CA                  Unknown   \n",
              "812   credit card refinancing      rent       TX            Skilled Labor   \n",
              "903        debt consolidation  mortgage       NC                  Unknown   \n",
              "332        debt consolidation       own       OR                    Sales   \n",
              "1483       debt consolidation      rent       FL                   Office   \n",
              "\n",
              "      Feature10  Feature11  DEFAULT  \n",
              "2292       2020        8.0        0  \n",
              "2399       2019        9.0        0  \n",
              "902        2018        2.0        0  \n",
              "2238       2019        0.0        0  \n",
              "1285       2019        2.0        0  \n",
              "56         2019       10.0        0  \n",
              "1987       2019        6.0        0  \n",
              "802        2019        1.0        0  \n",
              "812        2019        5.0        1  \n",
              "903        2019        0.0        0  \n",
              "332        2019        1.0        0  \n",
              "1483       2019        4.0        0  "
            ]
          },
          "metadata": {
            "tags": []
          },
          "execution_count": 120
        }
      ]
    },
    {
      "cell_type": "code",
      "metadata": {
        "id": "KWLjCq_aqAxV"
      },
      "source": [
        "# sns.pairplot(df)"
      ],
      "execution_count": null,
      "outputs": []
    },
    {
      "cell_type": "markdown",
      "metadata": {
        "id": "E1DRRy2oqAxa"
      },
      "source": [
        "## Feature Selection"
      ]
    },
    {
      "cell_type": "markdown",
      "metadata": {
        "id": "VXneYvGTqAxb"
      },
      "source": [
        "<p>It is usually observed that when the right features are used for training, the model performs better than using the entire available dataset. Too many features may hinder accuracy, might cause the learning to slow down, increases complexity, and compromises model interpretability. Therefore, it is important for us to wisely choose those features that explain the target variable well. </p>\n",
        "<p>As a sanity check for for being able to classify, I use <b> Logistic Regression </b> and <b> Random Forst Classification. </b> Additionally, I also use these 2 algos to help me in determining the importance of features, as it can be an iterative process\n"
      ]
    },
    {
      "cell_type": "code",
      "metadata": {
        "id": "CYAIJimxqAxc",
        "outputId": "f2a09632-4f57-403e-eb76-abc4c686891f"
      },
      "source": [
        "# I use the Spearman Rank Correlation for pairwise correlation between the numerical features\n",
        "\n",
        "corr_matrix = df.corr('spearman')\n",
        "# corr_matrix\n",
        "sns.heatmap(corr_matrix)"
      ],
      "execution_count": null,
      "outputs": [
        {
          "output_type": "execute_result",
          "data": {
            "text/plain": [
              "<matplotlib.axes._subplots.AxesSubplot at 0x230459601d0>"
            ]
          },
          "metadata": {
            "tags": []
          },
          "execution_count": 122
        },
        {
          "output_type": "display_data",
          "data": {
            "image/png": "[encoded data removed]",
            "text/plain": [
              "<Figure size 432x288 with 2 Axes>"
            ]
          },
          "metadata": {
            "tags": [],
            "needs_background": "light"
          }
        }
      ]
    },
    {
      "cell_type": "markdown",
      "metadata": {
        "id": "RA2aaUebqAxi"
      },
      "source": [
        "To address the categorical variables, I use One Hot Encoding for the features with fewer distinct categories (<i>Feature8, Feature9</i>, and LabelEncoding for features with a lot of distinct categories (<i>Feature6, Feature7</i>).<br><br>\n",
        "<b>Rationale</b>: <li>OHE creates as many number of dimensions as distinct values. Creating a lot of features will make our algorithm face the <i>Curse of Dimensionality</i>. Moreover, tree based algorithms like Random Forest will lose out on the essense of the original feature when it is broken into multiple \"features\"\n",
        "<li>Label Encoding assigns numerical values to categories, which the usual learning algorithm might mistake for ordinality even when the data is nominal. Random Forests tend to work alright even when used for nominal data\n",
        "<br><br>Because of the above 2 reasons, I've chosen OHE for 2 features and Label Encoding for 2 other features"
      ]
    },
    {
      "cell_type": "code",
      "metadata": {
        "id": "sQZN4G6WqAxk"
      },
      "source": [
        "df2 = df.copy()"
      ],
      "execution_count": null,
      "outputs": []
    },
    {
      "cell_type": "code",
      "metadata": {
        "id": "s17xi6fOqAxo"
      },
      "source": [
        "# OHE - Feature6 and Feature7\n",
        "\n",
        "df_f6 = pd.get_dummies(data=df2['Feature6'])\n",
        "df_f6.rename({x:'Feature6_'+x.replace(' ','_') for x in df_f6.columns}, axis=1, inplace=True)\n",
        "\n",
        "df_f7 = pd.get_dummies(data=df2['Feature7'])\n",
        "df_f7.rename({x:'Feature7_'+x.replace(' ','_') for x in df_f7.columns}, axis=1, inplace=True)\n",
        "\n",
        "df2 = pd.concat([df2, df_f6, df_f7], axis=1).drop(['Feature6','Feature7'], axis=1)"
      ],
      "execution_count": null,
      "outputs": []
    },
    {
      "cell_type": "code",
      "metadata": {
        "id": "sMjzwU6vqAxt"
      },
      "source": [
        "# Label Encoding Feature8 and Feature9\n",
        "\n",
        "enc = LabelEncoder()\n",
        "df2['Feature8_Cat'] = enc.fit_transform(df2['Feature8'])\n",
        "df2['Feature9_Cat'] = enc.fit_transform(df2['Feature9'])\n",
        "\n",
        "df2.drop(['Feature8','Feature9'], axis=1, inplace=True)"
      ],
      "execution_count": null,
      "outputs": []
    },
    {
      "cell_type": "code",
      "metadata": {
        "id": "fNSx3w0zqAx3"
      },
      "source": [
        "# Splitting data into features and labels\n",
        "\n",
        "X = df2.drop(['DEFAULT'], axis = 1)\n",
        "Y = df2['DEFAULT']"
      ],
      "execution_count": null,
      "outputs": []
    },
    {
      "cell_type": "markdown",
      "metadata": {
        "id": "sPtNPpWnqAx8"
      },
      "source": [
        "Here, we scale the features. Scaling helps in speeding up learning. Using StandardScaler, we standardize the dataset to center the mean at zero and scaling to unit variance. However, scaling is not necessary for tree based algorithms like Random Forest"
      ]
    },
    {
      "cell_type": "code",
      "metadata": {
        "scrolled": true,
        "id": "_0zUkGYRqAx9"
      },
      "source": [
        "X = StandardScaler().fit_transform(X)"
      ],
      "execution_count": null,
      "outputs": []
    },
    {
      "cell_type": "code",
      "metadata": {
        "id": "BBHEbRUyqAyC"
      },
      "source": [
        "def evaluate_model(X, Y, model, scoring, split=0.30):\n",
        "    # Splitting dataset into train and test\n",
        "    X_train, X_test, y_train, y_test = train_test_split(X, Y, test_size = split, random_state=42, stratify=Y)\n",
        "    start = time.process_time()\n",
        "    model.fit(X_train, y_train)\n",
        "    preds = model.predict(X_test)\n",
        "    print(f\"{time.process_time() - start} sec\")\n",
        "    scores = cross_val_score(model, X_train, y_train, scoring=scoring)\n",
        "    diff = scores.mean() - model.score(X_test, y_test)\n",
        "    \n",
        "    print(\"************ SCORE CARD ************\")\n",
        "    print(f\"Training Score:{model.score(X_train, y_train)}\")\n",
        "    print(f\"Cross V Score: {scores.mean()} +/- {scores.std()}\")\n",
        "    print(f\"Testing Score: {model.score(X_test, y_test)}\")\n",
        "    print(f\"Cross & Test Diff: {diff}\")\n",
        "    print(confusion_matrix(y_test, preds))\n",
        "    print(classification_report(y_test, preds))"
      ],
      "execution_count": null,
      "outputs": []
    },
    {
      "cell_type": "code",
      "metadata": {
        "id": "gow1P7TwqAyG"
      },
      "source": [
        "LR = LogisticRegression(random_state=0, solver='newton-cg', max_iter=1000)"
      ],
      "execution_count": null,
      "outputs": []
    },
    {
      "cell_type": "code",
      "metadata": {
        "scrolled": true,
        "id": "fZsLDXCuqAyP",
        "outputId": "e33cb19c-4cb6-4b33-967c-3eb8b51e5418"
      },
      "source": [
        "evaluate_model(X, Y, LR, 'roc_auc')"
      ],
      "execution_count": null,
      "outputs": [
        {
          "output_type": "stream",
          "text": [
            "0.0625 sec\n",
            "************ SCORE CARD ************\n",
            "Training Score:0.8689181453921008\n",
            "Cross V Score: 0.5852691021390468 +/- 0.048219830778713516\n",
            "Testing Score: 0.8693333333333333\n",
            "Cross & Test Diff: -0.2840642311942865\n",
            "[[652   0]\n",
            " [ 98   0]]\n",
            "              precision    recall  f1-score   support\n",
            "\n",
            "           0       0.87      1.00      0.93       652\n",
            "           1       0.00      0.00      0.00        98\n",
            "\n",
            "    accuracy                           0.87       750\n",
            "   macro avg       0.43      0.50      0.47       750\n",
            "weighted avg       0.76      0.87      0.81       750\n",
            "\n"
          ],
          "name": "stdout"
        },
        {
          "output_type": "stream",
          "text": [
            "C:\\ProgramData\\Anaconda3\\lib\\site-packages\\sklearn\\metrics\\_classification.py:1221: UndefinedMetricWarning: Precision and F-score are ill-defined and being set to 0.0 in labels with no predicted samples. Use `zero_division` parameter to control this behavior.\n",
            "  _warn_prf(average, modifier, msg_start, len(result))\n"
          ],
          "name": "stderr"
        }
      ]
    },
    {
      "cell_type": "code",
      "metadata": {
        "id": "Jz7NZl2uqAyU"
      },
      "source": [
        "from sklearn.feature_selection import SelectFromModel"
      ],
      "execution_count": null,
      "outputs": []
    },
    {
      "cell_type": "code",
      "metadata": {
        "id": "Zev96l40qAyd"
      },
      "source": [
        "X_train, X_test, y_train, y_test = train_test_split(X, Y, test_size = 0.3, random_state=42, stratify=Y)"
      ],
      "execution_count": null,
      "outputs": []
    },
    {
      "cell_type": "code",
      "metadata": {
        "id": "M0ue5zo_qAyo"
      },
      "source": [
        "embeded_rf_selector = SelectFromModel(RandomForestClassifier(n_estimators=500), max_features=6)\n",
        "embeded_rf_selector.fit(X_train, y_train)"
      ],
      "execution_count": null,
      "outputs": []
    },
    {
      "cell_type": "code",
      "metadata": {
        "id": "9yQA2rKTqAyv",
        "outputId": "d0ad2ec0-2e13-4be8-8264-771c1d5f56fc"
      },
      "source": [
        "embeded_rf_support."
      ],
      "execution_count": null,
      "outputs": [
        {
          "output_type": "execute_result",
          "data": {
            "text/plain": [
              "array([ True, False,  True,  True,  True, False,  True, False, False,\n",
              "       False, False, False, False, False,  True, False])"
            ]
          },
          "metadata": {
            "tags": []
          },
          "execution_count": 135
        }
      ]
    },
    {
      "cell_type": "code",
      "metadata": {
        "id": "dfLqqUWPqAy3",
        "outputId": "e8a52716-e2c4-4a68-f4c3-0ea0700cd3b4"
      },
      "source": [
        "embeded_rf_support = embeded_rf_selector.get_support()\n",
        "embeded_rf_feature = X_train.loc[:,embeded_rf_support].columns.tolist()"
      ],
      "execution_count": null,
      "outputs": [
        {
          "output_type": "error",
          "ename": "AttributeError",
          "evalue": "'numpy.ndarray' object has no attribute 'loc'",
          "traceback": [
            "\u001b[1;31m---------------------------------------------------------------------------\u001b[0m",
            "\u001b[1;31mAttributeError\u001b[0m                            Traceback (most recent call last)",
            "\u001b[1;32m<ipython-input-134-31700d37e3ca>\u001b[0m in \u001b[0;36m<module>\u001b[1;34m\u001b[0m\n\u001b[0;32m      3\u001b[0m \u001b[1;33m\u001b[0m\u001b[0m\n\u001b[0;32m      4\u001b[0m \u001b[0membeded_rf_support\u001b[0m \u001b[1;33m=\u001b[0m \u001b[0membeded_rf_selector\u001b[0m\u001b[1;33m.\u001b[0m\u001b[0mget_support\u001b[0m\u001b[1;33m(\u001b[0m\u001b[1;33m)\u001b[0m\u001b[1;33m\u001b[0m\u001b[1;33m\u001b[0m\u001b[0m\n\u001b[1;32m----> 5\u001b[1;33m \u001b[0membeded_rf_feature\u001b[0m \u001b[1;33m=\u001b[0m \u001b[0mX_train\u001b[0m\u001b[1;33m.\u001b[0m\u001b[0mloc\u001b[0m\u001b[1;33m[\u001b[0m\u001b[1;33m:\u001b[0m\u001b[1;33m,\u001b[0m\u001b[0membeded_rf_support\u001b[0m\u001b[1;33m]\u001b[0m\u001b[1;33m.\u001b[0m\u001b[0mcolumns\u001b[0m\u001b[1;33m.\u001b[0m\u001b[0mtolist\u001b[0m\u001b[1;33m(\u001b[0m\u001b[1;33m)\u001b[0m\u001b[1;33m\u001b[0m\u001b[1;33m\u001b[0m\u001b[0m\n\u001b[0m",
            "\u001b[1;31mAttributeError\u001b[0m: 'numpy.ndarray' object has no attribute 'loc'"
          ]
        }
      ]
    },
    {
      "cell_type": "code",
      "metadata": {
        "id": "_0ZcfIIXqAzA"
      },
      "source": [
        ""
      ],
      "execution_count": null,
      "outputs": []
    },
    {
      "cell_type": "code",
      "metadata": {
        "id": "ntQPtuXAqAzF"
      },
      "source": [
        "RF = RandomForestClassifier(n_estimators=500)"
      ],
      "execution_count": null,
      "outputs": []
    },
    {
      "cell_type": "code",
      "metadata": {
        "scrolled": true,
        "id": "btnKfoKOqAzM",
        "outputId": "1feffa10-f8ce-4118-8fae-21e9a4a2277a"
      },
      "source": [
        "evaluate_model(X, Y, RF, scoring='roc_auc')"
      ],
      "execution_count": null,
      "outputs": [
        {
          "output_type": "stream",
          "text": [
            "4.671875 sec\n",
            "************ SCORE CARD ************\n",
            "Training Score:1.0\n",
            "Cross V Score: 0.5564390593807664 +/- 0.043922693513118824\n",
            "Testing Score: 0.8693333333333333\n",
            "Cross & Test Diff: -0.31289427395256686\n",
            "[[652   0]\n",
            " [ 98   0]]\n",
            "              precision    recall  f1-score   support\n",
            "\n",
            "           0       0.87      1.00      0.93       652\n",
            "           1       0.00      0.00      0.00        98\n",
            "\n",
            "    accuracy                           0.87       750\n",
            "   macro avg       0.43      0.50      0.47       750\n",
            "weighted avg       0.76      0.87      0.81       750\n",
            "\n"
          ],
          "name": "stdout"
        },
        {
          "output_type": "stream",
          "text": [
            "C:\\ProgramData\\Anaconda3\\lib\\site-packages\\sklearn\\metrics\\_classification.py:1221: UndefinedMetricWarning: Precision and F-score are ill-defined and being set to 0.0 in labels with no predicted samples. Use `zero_division` parameter to control this behavior.\n",
            "  _warn_prf(average, modifier, msg_start, len(result))\n"
          ],
          "name": "stderr"
        }
      ]
    },
    {
      "cell_type": "markdown",
      "metadata": {
        "id": "0nDZS0LiqAzQ"
      },
      "source": [
        "### Accuracy and Validation"
      ]
    },
    {
      "cell_type": "markdown",
      "metadata": {
        "id": "i1uVpnIkqAzR"
      },
      "source": [
        "As we see above, though the models do well on the training set, they do a bad job in predicting defaults in the previously unseen test set. In fact, both LR and RF predict that 0 loans default. It still gives us the \"accuracy\" of 87%. However, traditional accuracy is of no significance to us. We would rather want to know how well the model does on spotting defaults, given various features. We look at two evaluation metrics for this:\n",
        "<li><b>Precision:</b> Out of all the predictions that the model has made for a class, how many actually are correct?\n",
        "<li><b>Recall:</b> Out of all the actual correct values for a call, how many has the model predicted as such?\n",
        "<br>Therefore, we evaluate the model on similar lines using the confusion matrix and precision-recall score. This brings us to the next problem of the model performance. This can be explained by the <b>imbalanced nature of the dataset</b>"
      ]
    },
    {
      "cell_type": "markdown",
      "metadata": {
        "id": "OTl1ox0SqAzR"
      },
      "source": [
        "#### Imbalanced Dataset Problem"
      ]
    },
    {
      "cell_type": "markdown",
      "metadata": {
        "id": "PsXArKj3qAzS"
      },
      "source": [
        "As seen earlier, the dataset is quite imbalanced as we have only 13% of the sample with a DEFAULT = 1 outcome. When we have such disparity in the data, the algorithm fails to see enough examples to learn from it well. Since it is more important for us to accurately predict defaults, we need more data where DEFAULTS = 1. In such cases, we can either <b>upsample</b> the minority class (here DEFAULTS=1) or <b>downsample</b> the majority class. Downsampling the majority class here is not an option, as we lose out on most of our data. We can upsample the minority class by selecting from it with replacement, and adding to the dataset until it becomes balanced. An improvement to that technique is <b>SMOTE</b> upsampling where the minority class is balanced with the majority class, but not just by copying rows, but by creating new ones using k-NN algorithms. For this problem, I've used the SMOTE Upsampling technique"
      ]
    },
    {
      "cell_type": "code",
      "metadata": {
        "id": "mCTvVISkqAzS"
      },
      "source": [
        "from imblearn.over_sampling import SMOTE\n",
        "smt = SMOTE(random_state=42)\n",
        "X_train, X_test, y_train, y_test = train_test_split(X, Y, test_size = 0.3, random_state=42, stratify=Y)\n",
        "X_train_SMOTE, y_train_SMOTE = smt.fit_sample(X_train, y_train)"
      ],
      "execution_count": null,
      "outputs": []
    },
    {
      "cell_type": "code",
      "metadata": {
        "id": "hjSawWvOqAzW"
      },
      "source": [
        "def evaluate_model_SMOTE(X_train_SMOTE, X_test, y_train_SMOTE, y_test, model, scoring, split=0.30):\n",
        "    start = time.process_time()\n",
        "    model.fit(X_train_SMOTE, y_train_SMOTE)\n",
        "    preds = model.predict(X_test)\n",
        "    print(f\"{time.process_time() - start} sec\")\n",
        "    scores = cross_val_score(model, X_train_SMOTE, y_train_SMOTE, scoring=scoring)\n",
        "    diff = scores.mean() - model.score(X_test, y_test)\n",
        "    \n",
        "    print(\"************ SCORE CARD ************\")\n",
        "    print(f\"Training Score:{model.score(X_train, y_train)}\")\n",
        "    print(f\"Cross V Score: {scores.mean()} +/- {scores.std()}\")\n",
        "    print(f\"Testing Score: {model.score(X_test, y_test)}\")\n",
        "    print(f\"Cross & Test Diff: {diff}\")\n",
        "    print(confusion_matrix(y_test, preds))\n",
        "    print(classification_report(y_test, preds))"
      ],
      "execution_count": null,
      "outputs": []
    },
    {
      "cell_type": "code",
      "metadata": {
        "id": "YN9S_0qcqAzZ"
      },
      "source": [
        "LR = LogisticRegression(random_state=0, solver='newton-cg', max_iter=1000)"
      ],
      "execution_count": null,
      "outputs": []
    },
    {
      "cell_type": "code",
      "metadata": {
        "id": "eV5uAxY_qAzd",
        "outputId": "65471223-cc30-4da6-e1cd-6101aeba44b6"
      },
      "source": [
        "evaluate_model_SMOTE(X_train_SMOTE, X_test, y_train_SMOTE, y_test, LR, 'f1')"
      ],
      "execution_count": null,
      "outputs": [
        {
          "output_type": "stream",
          "text": [
            "0.1875 sec\n",
            "************ SCORE CARD ************\n",
            "Training Score:0.5781339439038351\n",
            "Cross V Score: 0.6097575137469667 +/- 0.020094426890442184\n",
            "Testing Score: 0.5706666666666667\n",
            "Cross & Test Diff: 0.039090847080300084\n",
            "[[363 289]\n",
            " [ 33  65]]\n",
            "              precision    recall  f1-score   support\n",
            "\n",
            "           0       0.92      0.56      0.69       652\n",
            "           1       0.18      0.66      0.29        98\n",
            "\n",
            "    accuracy                           0.57       750\n",
            "   macro avg       0.55      0.61      0.49       750\n",
            "weighted avg       0.82      0.57      0.64       750\n",
            "\n"
          ],
          "name": "stdout"
        }
      ]
    },
    {
      "cell_type": "code",
      "metadata": {
        "id": "-0BMxk_vqAzl"
      },
      "source": [
        "RF = RandomForestClassifier(n_estimators=500)"
      ],
      "execution_count": null,
      "outputs": []
    },
    {
      "cell_type": "code",
      "metadata": {
        "scrolled": true,
        "id": "7MUP3zYvqAzo",
        "outputId": "b539cd54-a132-46bc-d786-1a000a273d90"
      },
      "source": [
        "evaluate_model_SMOTE(X_train_SMOTE, X_test, y_train_SMOTE, y_test, RF, 'roc_auc')"
      ],
      "execution_count": null,
      "outputs": [
        {
          "output_type": "stream",
          "text": [
            "6.765625 sec\n",
            "************ SCORE CARD ************\n",
            "Training Score:1.0\n",
            "Cross V Score: 0.9726016075681322 +/- 0.03885894306350821\n",
            "Testing Score: 0.8266666666666667\n",
            "Cross & Test Diff: 0.14593494090146553\n",
            "[[616  36]\n",
            " [ 94   4]]\n",
            "              precision    recall  f1-score   support\n",
            "\n",
            "           0       0.87      0.94      0.90       652\n",
            "           1       0.10      0.04      0.06        98\n",
            "\n",
            "    accuracy                           0.83       750\n",
            "   macro avg       0.48      0.49      0.48       750\n",
            "weighted avg       0.77      0.83      0.79       750\n",
            "\n"
          ],
          "name": "stdout"
        }
      ]
    },
    {
      "cell_type": "markdown",
      "metadata": {
        "id": "vttdHFRZqAzr"
      },
      "source": [
        "We see that the model is doing a little better than before. Another way to deal with imbalanced datasets are by adding <b>class weights</b>. We ask the model to give more weightage to the minority class, usually equal to the inverse of its proportion in the dataset."
      ]
    },
    {
      "cell_type": "code",
      "metadata": {
        "id": "GHsTSTcoqAzs"
      },
      "source": [
        "LR = LogisticRegression(random_state=0, solver='newton-cg', max_iter=1000, class_weight='balanced')"
      ],
      "execution_count": null,
      "outputs": []
    },
    {
      "cell_type": "code",
      "metadata": {
        "id": "saQ3_vOTqAzx",
        "outputId": "ce5db368-1402-4adf-8584-a48687c5ea7d"
      },
      "source": [
        "evaluate_model(X, Y, LR, scoring='roc_auc')"
      ],
      "execution_count": null,
      "outputs": [
        {
          "output_type": "stream",
          "text": [
            "0.140625 sec\n",
            "************ SCORE CARD ************\n",
            "Training Score:0.5821408128219805\n",
            "Cross V Score: 0.5801342977547183 +/- 0.05136969223905211\n",
            "Testing Score: 0.5666666666666667\n",
            "Cross & Test Diff: 0.013467631088051601\n",
            "[[361 291]\n",
            " [ 34  64]]\n",
            "              precision    recall  f1-score   support\n",
            "\n",
            "           0       0.91      0.55      0.69       652\n",
            "           1       0.18      0.65      0.28        98\n",
            "\n",
            "    accuracy                           0.57       750\n",
            "   macro avg       0.55      0.60      0.49       750\n",
            "weighted avg       0.82      0.57      0.64       750\n",
            "\n"
          ],
          "name": "stdout"
        }
      ]
    },
    {
      "cell_type": "code",
      "metadata": {
        "id": "mZY_KnZAqAz1",
        "outputId": "d9f33f5f-9995-48fb-9699-a7ca8cc35b63"
      },
      "source": [
        "RF = RandomForestClassifier(n_estimators=500, class_weight='balanced')\n",
        "evaluate_model(X, Y, RF, scoring='roc_auc')"
      ],
      "execution_count": null,
      "outputs": [
        {
          "output_type": "stream",
          "text": [
            "5.265625 sec\n",
            "************ SCORE CARD ************\n",
            "Training Score:1.0\n",
            "Cross V Score: 0.5634631957188854 +/- 0.023767843121168128\n",
            "Testing Score: 0.8693333333333333\n",
            "Cross & Test Diff: -0.3058701376144479\n",
            "[[652   0]\n",
            " [ 98   0]]\n",
            "              precision    recall  f1-score   support\n",
            "\n",
            "           0       0.87      1.00      0.93       652\n",
            "           1       0.00      0.00      0.00        98\n",
            "\n",
            "    accuracy                           0.87       750\n",
            "   macro avg       0.43      0.50      0.47       750\n",
            "weighted avg       0.76      0.87      0.81       750\n",
            "\n"
          ],
          "name": "stdout"
        },
        {
          "output_type": "stream",
          "text": [
            "C:\\ProgramData\\Anaconda3\\lib\\site-packages\\sklearn\\metrics\\_classification.py:1221: UndefinedMetricWarning: Precision and F-score are ill-defined and being set to 0.0 in labels with no predicted samples. Use `zero_division` parameter to control this behavior.\n",
            "  _warn_prf(average, modifier, msg_start, len(result))\n"
          ],
          "name": "stderr"
        }
      ]
    },
    {
      "cell_type": "markdown",
      "metadata": {
        "id": "fNeFt9VBqAz6"
      },
      "source": [
        "We see that the the LR performed similar to the SMOTE upsampling technique used.\n",
        "<br><br>Let's get back to the features"
      ]
    },
    {
      "cell_type": "code",
      "metadata": {
        "id": "JEx5MzxmqAz7",
        "outputId": "4000e8d6-1dce-4e9d-c9be-3fce16124a35"
      },
      "source": [
        "corr_matrix = df.corr('spearman')\n",
        "sns.heatmap(corr_matrix)"
      ],
      "execution_count": null,
      "outputs": [
        {
          "output_type": "execute_result",
          "data": {
            "text/plain": [
              "<matplotlib.axes._subplots.AxesSubplot at 0x23035ee9e48>"
            ]
          },
          "metadata": {
            "tags": []
          },
          "execution_count": 59
        },
        {
          "output_type": "display_data",
          "data": {
            "image/png": "[encoded data removed]",
            "text/plain": [
              "<Figure size 432x288 with 2 Axes>"
            ]
          },
          "metadata": {
            "tags": [],
            "needs_background": "light"
          }
        }
      ]
    },
    {
      "cell_type": "markdown",
      "metadata": {
        "id": "4wywDNVcqA0E"
      },
      "source": [
        "From the heatmap above, we see that Feature1 and Feature4 are correlated more than the others. I club the effects of them both by dividing Feature1 by Feature4 "
      ]
    },
    {
      "cell_type": "code",
      "metadata": {
        "id": "YR1wizOgqA0F"
      },
      "source": [
        "df2['Feature1_4'] = df2['Feature1'] / df2['Feature4']\n",
        "df2.drop(['Feature1','Feature4'], axis=1, inplace=True)"
      ],
      "execution_count": null,
      "outputs": []
    },
    {
      "cell_type": "code",
      "metadata": {
        "id": "qMF2sMxPqA0N",
        "outputId": "a75bbbc2-490a-49b7-cbb1-effcdff652fa"
      },
      "source": [
        "# Checking distribution\n",
        "\n",
        "df2['Feature1_4'].hist(bins=50)"
      ],
      "execution_count": null,
      "outputs": [
        {
          "output_type": "execute_result",
          "data": {
            "text/plain": [
              "<matplotlib.axes._subplots.AxesSubplot at 0x23037f3f390>"
            ]
          },
          "metadata": {
            "tags": []
          },
          "execution_count": 61
        },
        {
          "output_type": "display_data",
          "data": {
            "image/png": "[encoded data removed]",
            "text/plain": [
              "<Figure size 432x288 with 1 Axes>"
            ]
          },
          "metadata": {
            "tags": [],
            "needs_background": "light"
          }
        }
      ]
    },
    {
      "cell_type": "code",
      "metadata": {
        "id": "0RHhbukUqA0S"
      },
      "source": [
        "X = df2.drop(['DEFAULT'], axis = 1)\n",
        "Y = df2['DEFAULT']"
      ],
      "execution_count": null,
      "outputs": []
    },
    {
      "cell_type": "code",
      "metadata": {
        "id": "uOd0wPP5qA0V"
      },
      "source": [
        "X = StandardScaler().fit_transform(X)"
      ],
      "execution_count": null,
      "outputs": []
    },
    {
      "cell_type": "code",
      "metadata": {
        "id": "nvuli0o6qA0Z"
      },
      "source": [
        "LR = LogisticRegression(random_state=0, solver='newton-cg', max_iter=1000, class_weight='balanced')"
      ],
      "execution_count": null,
      "outputs": []
    },
    {
      "cell_type": "code",
      "metadata": {
        "id": "PsPA9B-_qA0h",
        "outputId": "126862aa-7f7f-4147-e7a9-7040d49a0b99"
      },
      "source": [
        "evaluate_model(X, Y, LR, scoring='roc_auc')"
      ],
      "execution_count": null,
      "outputs": [
        {
          "output_type": "stream",
          "text": [
            "0.140625 sec\n",
            "************ SCORE CARD ************\n",
            "Training Score:0.5684029765311963\n",
            "Cross V Score: 0.5579486755883826 +/- 0.04775986885123962\n",
            "Testing Score: 0.5666666666666667\n",
            "Cross & Test Diff: -0.008717991078284082\n",
            "[[368 284]\n",
            " [ 41  57]]\n",
            "              precision    recall  f1-score   support\n",
            "\n",
            "           0       0.90      0.56      0.69       652\n",
            "           1       0.17      0.58      0.26        98\n",
            "\n",
            "    accuracy                           0.57       750\n",
            "   macro avg       0.53      0.57      0.48       750\n",
            "weighted avg       0.80      0.57      0.64       750\n",
            "\n"
          ],
          "name": "stdout"
        }
      ]
    },
    {
      "cell_type": "code",
      "metadata": {
        "id": "Maksb-geqA0l",
        "outputId": "325397f4-55dc-4a6a-bf3f-b47decb00a11"
      },
      "source": [
        "RF = RandomForestClassifier(n_estimators=500, class_weight='balanced')\n",
        "evaluate_model(X, Y, RF, scoring='roc_auc')"
      ],
      "execution_count": null,
      "outputs": [
        {
          "output_type": "stream",
          "text": [
            "4.171875 sec\n",
            "************ SCORE CARD ************\n",
            "Training Score:1.0\n",
            "Cross V Score: 0.5507580343274603 +/- 0.04539115481846824\n",
            "Testing Score: 0.8706666666666667\n",
            "Cross & Test Diff: -0.3199086323392064\n",
            "[[652   0]\n",
            " [ 97   1]]\n",
            "              precision    recall  f1-score   support\n",
            "\n",
            "           0       0.87      1.00      0.93       652\n",
            "           1       1.00      0.01      0.02        98\n",
            "\n",
            "    accuracy                           0.87       750\n",
            "   macro avg       0.94      0.51      0.48       750\n",
            "weighted avg       0.89      0.87      0.81       750\n",
            "\n"
          ],
          "name": "stdout"
        }
      ]
    },
    {
      "cell_type": "markdown",
      "metadata": {
        "id": "9PstSniNqA0o"
      },
      "source": [
        "## Final Model - CatBoost"
      ]
    },
    {
      "cell_type": "markdown",
      "metadata": {
        "id": "27KUrv0EqA0p"
      },
      "source": [
        "I use CatBoost algorithm as the final algorithm for its state of the art performance and ability to handle categorical features automatically without preprocessing. I use the recommended parameters for the model tuning"
      ]
    },
    {
      "cell_type": "code",
      "metadata": {
        "id": "FtE-HDF3qA0q"
      },
      "source": [
        "from catboost import CatBoostClassifier, Pool"
      ],
      "execution_count": null,
      "outputs": []
    },
    {
      "cell_type": "code",
      "metadata": {
        "id": "7iWxf3d4qA0t"
      },
      "source": [
        "X = df.drop(['DEFAULT'], axis = 1)\n",
        "Y = df['DEFAULT']"
      ],
      "execution_count": null,
      "outputs": []
    },
    {
      "cell_type": "code",
      "metadata": {
        "id": "qObikpTqqA0x"
      },
      "source": [
        "X_train, X_test, y_train, y_test = train_test_split(X, Y, test_size = 0.3, random_state=42, stratify=Y)"
      ],
      "execution_count": null,
      "outputs": []
    },
    {
      "cell_type": "code",
      "metadata": {
        "id": "TrMqqBH4qA01"
      },
      "source": [
        "CatB = CatBoostClassifier(iterations=143, learning_rate=0.01, l2_leaf_reg=3.5, depth=8, rsm=0.98, loss_function= 'Logloss', eval_metric='AUC',use_best_model=True,random_seed=42, class_weights={0: 1.1506912442396313, 1: 7.636085626911315})"
      ],
      "execution_count": null,
      "outputs": []
    },
    {
      "cell_type": "code",
      "metadata": {
        "id": "C1yke6NHqA05",
        "outputId": "659ac9ad-9273-460d-da37-0c6abe6062cf"
      },
      "source": [
        "CatB.fit(X_train, y_train, cat_features=cat_features,eval_set=(X_test, y_test))"
      ],
      "execution_count": null,
      "outputs": [
        {
          "output_type": "stream",
          "text": [
            "0:\ttest: 0.5753881\tbest: 0.5753881 (0)\ttotal: 96.3ms\tremaining: 13.7s\n",
            "1:\ttest: 0.5994350\tbest: 0.5994350 (1)\ttotal: 115ms\tremaining: 8.14s\n",
            "2:\ttest: 0.5991690\tbest: 0.5994350 (1)\ttotal: 122ms\tremaining: 5.7s\n",
            "3:\ttest: 0.6135204\tbest: 0.6135204 (3)\ttotal: 135ms\tremaining: 4.68s\n",
            "4:\ttest: 0.6190059\tbest: 0.6190059 (4)\ttotal: 162ms\tremaining: 4.48s\n",
            "5:\ttest: 0.6062977\tbest: 0.6190059 (4)\ttotal: 185ms\tremaining: 4.21s\n",
            "6:\ttest: 0.6094356\tbest: 0.6190059 (4)\ttotal: 201ms\tremaining: 3.9s\n",
            "7:\ttest: 0.6179338\tbest: 0.6190059 (4)\ttotal: 219ms\tremaining: 3.7s\n",
            "8:\ttest: 0.6256886\tbest: 0.6256886 (8)\ttotal: 243ms\tremaining: 3.62s\n",
            "9:\ttest: 0.6298203\tbest: 0.6298203 (9)\ttotal: 248ms\tremaining: 3.29s\n",
            "10:\ttest: 0.6295778\tbest: 0.6298203 (9)\ttotal: 261ms\tremaining: 3.13s\n",
            "11:\ttest: 0.6243036\tbest: 0.6298203 (9)\ttotal: 278ms\tremaining: 3.04s\n",
            "12:\ttest: 0.6212126\tbest: 0.6298203 (9)\ttotal: 289ms\tremaining: 2.89s\n",
            "13:\ttest: 0.6191467\tbest: 0.6298203 (9)\ttotal: 295ms\tremaining: 2.71s\n",
            "14:\ttest: 0.6219012\tbest: 0.6298203 (9)\ttotal: 301ms\tremaining: 2.57s\n",
            "15:\ttest: 0.6220186\tbest: 0.6298203 (9)\ttotal: 312ms\tremaining: 2.48s\n",
            "16:\ttest: 0.6216195\tbest: 0.6298203 (9)\ttotal: 320ms\tremaining: 2.37s\n",
            "17:\ttest: 0.6288422\tbest: 0.6298203 (9)\ttotal: 335ms\tremaining: 2.33s\n",
            "18:\ttest: 0.6311271\tbest: 0.6311271 (18)\ttotal: 347ms\tremaining: 2.27s\n",
            "19:\ttest: 0.6278875\tbest: 0.6311271 (18)\ttotal: 354ms\tremaining: 2.17s\n",
            "20:\ttest: 0.6292804\tbest: 0.6311271 (18)\ttotal: 365ms\tremaining: 2.12s\n",
            "21:\ttest: 0.6276371\tbest: 0.6311271 (18)\ttotal: 371ms\tremaining: 2.04s\n",
            "22:\ttest: 0.6291552\tbest: 0.6311271 (18)\ttotal: 384ms\tremaining: 2s\n",
            "23:\ttest: 0.6290691\tbest: 0.6311271 (18)\ttotal: 393ms\tremaining: 1.95s\n",
            "24:\ttest: 0.6256260\tbest: 0.6311271 (18)\ttotal: 426ms\tremaining: 2.01s\n",
            "25:\ttest: 0.6255791\tbest: 0.6311271 (18)\ttotal: 459ms\tremaining: 2.07s\n",
            "26:\ttest: 0.6294760\tbest: 0.6311271 (18)\ttotal: 502ms\tremaining: 2.16s\n",
            "27:\ttest: 0.6297577\tbest: 0.6311271 (18)\ttotal: 516ms\tremaining: 2.12s\n",
            "28:\ttest: 0.6285683\tbest: 0.6311271 (18)\ttotal: 522ms\tremaining: 2.05s\n",
            "29:\ttest: 0.6270972\tbest: 0.6311271 (18)\ttotal: 536ms\tremaining: 2.02s\n",
            "30:\ttest: 0.6275980\tbest: 0.6311271 (18)\ttotal: 549ms\tremaining: 1.98s\n",
            "31:\ttest: 0.6308376\tbest: 0.6311271 (18)\ttotal: 560ms\tremaining: 1.94s\n",
            "32:\ttest: 0.6305403\tbest: 0.6311271 (18)\ttotal: 569ms\tremaining: 1.9s\n",
            "33:\ttest: 0.6310567\tbest: 0.6311271 (18)\ttotal: 579ms\tremaining: 1.86s\n",
            "34:\ttest: 0.6313228\tbest: 0.6313228 (34)\ttotal: 588ms\tremaining: 1.81s\n",
            "35:\ttest: 0.6334043\tbest: 0.6334043 (35)\ttotal: 598ms\tremaining: 1.78s\n",
            "36:\ttest: 0.6360492\tbest: 0.6360492 (36)\ttotal: 608ms\tremaining: 1.74s\n",
            "37:\ttest: 0.6350789\tbest: 0.6360492 (36)\ttotal: 616ms\tremaining: 1.7s\n",
            "38:\ttest: 0.6341555\tbest: 0.6360492 (36)\ttotal: 630ms\tremaining: 1.68s\n",
            "39:\ttest: 0.6328409\tbest: 0.6360492 (36)\ttotal: 640ms\tremaining: 1.65s\n",
            "40:\ttest: 0.6325122\tbest: 0.6360492 (36)\ttotal: 651ms\tremaining: 1.62s\n",
            "41:\ttest: 0.6333417\tbest: 0.6360492 (36)\ttotal: 656ms\tremaining: 1.58s\n",
            "42:\ttest: 0.6354388\tbest: 0.6360492 (36)\ttotal: 672ms\tremaining: 1.56s\n",
            "43:\ttest: 0.6349850\tbest: 0.6360492 (36)\ttotal: 680ms\tremaining: 1.53s\n",
            "44:\ttest: 0.6344372\tbest: 0.6360492 (36)\ttotal: 689ms\tremaining: 1.5s\n",
            "45:\ttest: 0.6352197\tbest: 0.6360492 (36)\ttotal: 699ms\tremaining: 1.47s\n",
            "46:\ttest: 0.6341086\tbest: 0.6360492 (36)\ttotal: 711ms\tremaining: 1.45s\n",
            "47:\ttest: 0.6342964\tbest: 0.6360492 (36)\ttotal: 720ms\tremaining: 1.43s\n",
            "48:\ttest: 0.6332321\tbest: 0.6360492 (36)\ttotal: 732ms\tremaining: 1.4s\n",
            "49:\ttest: 0.6346720\tbest: 0.6360492 (36)\ttotal: 742ms\tremaining: 1.38s\n",
            "50:\ttest: 0.6362527\tbest: 0.6362527 (50)\ttotal: 758ms\tremaining: 1.37s\n",
            "51:\ttest: 0.6358771\tbest: 0.6362527 (50)\ttotal: 772ms\tremaining: 1.35s\n",
            "52:\ttest: 0.6360336\tbest: 0.6362527 (50)\ttotal: 780ms\tremaining: 1.32s\n",
            "53:\ttest: 0.6354701\tbest: 0.6362527 (50)\ttotal: 792ms\tremaining: 1.3s\n",
            "54:\ttest: 0.6364092\tbest: 0.6364092 (54)\ttotal: 807ms\tremaining: 1.29s\n",
            "55:\ttest: 0.6380212\tbest: 0.6380212 (55)\ttotal: 821ms\tremaining: 1.27s\n",
            "56:\ttest: 0.6377864\tbest: 0.6380212 (55)\ttotal: 829ms\tremaining: 1.25s\n",
            "57:\ttest: 0.6372699\tbest: 0.6380212 (55)\ttotal: 838ms\tremaining: 1.23s\n",
            "58:\ttest: 0.6379899\tbest: 0.6380212 (55)\ttotal: 843ms\tremaining: 1.2s\n",
            "59:\ttest: 0.6379899\tbest: 0.6380212 (55)\ttotal: 852ms\tremaining: 1.18s\n",
            "60:\ttest: 0.6360023\tbest: 0.6380212 (55)\ttotal: 862ms\tremaining: 1.16s\n",
            "61:\ttest: 0.6368943\tbest: 0.6380212 (55)\ttotal: 871ms\tremaining: 1.14s\n",
            "62:\ttest: 0.6363622\tbest: 0.6380212 (55)\ttotal: 878ms\tremaining: 1.11s\n",
            "63:\ttest: 0.6375360\tbest: 0.6380212 (55)\ttotal: 895ms\tremaining: 1.1s\n",
            "64:\ttest: 0.6389915\tbest: 0.6389915 (64)\ttotal: 909ms\tremaining: 1.09s\n",
            "65:\ttest: 0.6393984\tbest: 0.6393984 (65)\ttotal: 917ms\tremaining: 1.07s\n",
            "66:\ttest: 0.6388037\tbest: 0.6393984 (65)\ttotal: 933ms\tremaining: 1.06s\n",
            "67:\ttest: 0.6387254\tbest: 0.6393984 (65)\ttotal: 946ms\tremaining: 1.04s\n",
            "68:\ttest: 0.6387254\tbest: 0.6393984 (65)\ttotal: 954ms\tremaining: 1.02s\n",
            "69:\ttest: 0.6360649\tbest: 0.6393984 (65)\ttotal: 964ms\tremaining: 1s\n",
            "70:\ttest: 0.6351415\tbest: 0.6393984 (65)\ttotal: 972ms\tremaining: 986ms\n",
            "71:\ttest: 0.6360492\tbest: 0.6393984 (65)\ttotal: 985ms\tremaining: 971ms\n",
            "72:\ttest: 0.6369726\tbest: 0.6393984 (65)\ttotal: 995ms\tremaining: 954ms\n",
            "73:\ttest: 0.6361118\tbest: 0.6393984 (65)\ttotal: 1.01s\tremaining: 944ms\n",
            "74:\ttest: 0.6357362\tbest: 0.6393984 (65)\ttotal: 1.02s\tremaining: 924ms\n",
            "75:\ttest: 0.6360805\tbest: 0.6393984 (65)\ttotal: 1.04s\tremaining: 915ms\n",
            "76:\ttest: 0.6367065\tbest: 0.6393984 (65)\ttotal: 1.05s\tremaining: 899ms\n",
            "77:\ttest: 0.6371291\tbest: 0.6393984 (65)\ttotal: 1.06s\tremaining: 884ms\n",
            "78:\ttest: 0.6379899\tbest: 0.6393984 (65)\ttotal: 1.07s\tremaining: 867ms\n",
            "79:\ttest: 0.6380994\tbest: 0.6393984 (65)\ttotal: 1.08s\tremaining: 854ms\n",
            "80:\ttest: 0.6381307\tbest: 0.6393984 (65)\ttotal: 1.09s\tremaining: 838ms\n",
            "81:\ttest: 0.6383498\tbest: 0.6393984 (65)\ttotal: 1.1s\tremaining: 818ms\n",
            "82:\ttest: 0.6396801\tbest: 0.6396801 (82)\ttotal: 1.11s\tremaining: 803ms\n",
            "83:\ttest: 0.6383029\tbest: 0.6396801 (82)\ttotal: 1.12s\tremaining: 786ms\n",
            "84:\ttest: 0.6381933\tbest: 0.6396801 (82)\ttotal: 1.13s\tremaining: 774ms\n",
            "85:\ttest: 0.6386941\tbest: 0.6396801 (82)\ttotal: 1.15s\tremaining: 760ms\n",
            "86:\ttest: 0.6386002\tbest: 0.6396801 (82)\ttotal: 1.15s\tremaining: 742ms\n",
            "87:\ttest: 0.6376455\tbest: 0.6396801 (82)\ttotal: 1.16s\tremaining: 723ms\n",
            "88:\ttest: 0.6374264\tbest: 0.6396801 (82)\ttotal: 1.16s\tremaining: 706ms\n",
            "89:\ttest: 0.6371917\tbest: 0.6396801 (82)\ttotal: 1.17s\tremaining: 691ms\n",
            "90:\ttest: 0.6364874\tbest: 0.6396801 (82)\ttotal: 1.18s\tremaining: 676ms\n",
            "91:\ttest: 0.6366909\tbest: 0.6396801 (82)\ttotal: 1.2s\tremaining: 664ms\n",
            "92:\ttest: 0.6362370\tbest: 0.6396801 (82)\ttotal: 1.21s\tremaining: 649ms\n",
            "93:\ttest: 0.6362370\tbest: 0.6396801 (82)\ttotal: 1.21s\tremaining: 632ms\n",
            "94:\ttest: 0.6363309\tbest: 0.6396801 (82)\ttotal: 1.22s\tremaining: 618ms\n",
            "95:\ttest: 0.6376299\tbest: 0.6396801 (82)\ttotal: 1.23s\tremaining: 604ms\n",
            "96:\ttest: 0.6385063\tbest: 0.6396801 (82)\ttotal: 1.24s\tremaining: 590ms\n",
            "97:\ttest: 0.6382559\tbest: 0.6396801 (82)\ttotal: 1.25s\tremaining: 575ms\n",
            "98:\ttest: 0.6390384\tbest: 0.6396801 (82)\ttotal: 1.26s\tremaining: 561ms\n",
            "99:\ttest: 0.6383185\tbest: 0.6396801 (82)\ttotal: 1.27s\tremaining: 548ms\n",
            "100:\ttest: 0.6383342\tbest: 0.6396801 (82)\ttotal: 1.28s\tremaining: 534ms\n",
            "101:\ttest: 0.6382872\tbest: 0.6396801 (82)\ttotal: 1.3s\tremaining: 522ms\n",
            "102:\ttest: 0.6387724\tbest: 0.6396801 (82)\ttotal: 1.31s\tremaining: 508ms\n",
            "103:\ttest: 0.6387254\tbest: 0.6396801 (82)\ttotal: 1.32s\tremaining: 494ms\n",
            "104:\ttest: 0.6393827\tbest: 0.6396801 (82)\ttotal: 1.33s\tremaining: 480ms\n",
            "105:\ttest: 0.6390697\tbest: 0.6396801 (82)\ttotal: 1.34s\tremaining: 468ms\n",
            "106:\ttest: 0.6395080\tbest: 0.6396801 (82)\ttotal: 1.35s\tremaining: 455ms\n",
            "107:\ttest: 0.6397897\tbest: 0.6397897 (107)\ttotal: 1.36s\tremaining: 442ms\n",
            "108:\ttest: 0.6387880\tbest: 0.6397897 (107)\ttotal: 1.37s\tremaining: 429ms\n",
            "109:\ttest: 0.6393358\tbest: 0.6397897 (107)\ttotal: 1.38s\tremaining: 415ms\n",
            "110:\ttest: 0.6396488\tbest: 0.6397897 (107)\ttotal: 1.4s\tremaining: 402ms\n",
            "111:\ttest: 0.6396332\tbest: 0.6397897 (107)\ttotal: 1.41s\tremaining: 389ms\n",
            "112:\ttest: 0.6392732\tbest: 0.6397897 (107)\ttotal: 1.42s\tremaining: 377ms\n",
            "113:\ttest: 0.6399462\tbest: 0.6399462 (113)\ttotal: 1.43s\tremaining: 364ms\n",
            "114:\ttest: 0.6400557\tbest: 0.6400557 (114)\ttotal: 1.44s\tremaining: 351ms\n",
            "115:\ttest: 0.6406817\tbest: 0.6406817 (115)\ttotal: 1.46s\tremaining: 340ms\n",
            "116:\ttest: 0.6411199\tbest: 0.6411199 (116)\ttotal: 1.47s\tremaining: 327ms\n",
            "117:\ttest: 0.6413860\tbest: 0.6413860 (117)\ttotal: 1.48s\tremaining: 315ms\n",
            "118:\ttest: 0.6415582\tbest: 0.6415582 (118)\ttotal: 1.49s\tremaining: 301ms\n",
            "119:\ttest: 0.6411982\tbest: 0.6415582 (118)\ttotal: 1.51s\tremaining: 289ms\n"
          ],
          "name": "stdout"
        },
        {
          "output_type": "stream",
          "text": [
            "120:\ttest: 0.6414330\tbest: 0.6415582 (118)\ttotal: 1.52s\tremaining: 276ms\n",
            "121:\ttest: 0.6402279\tbest: 0.6415582 (118)\ttotal: 1.53s\tremaining: 264ms\n",
            "122:\ttest: 0.6406661\tbest: 0.6415582 (118)\ttotal: 1.55s\tremaining: 252ms\n",
            "123:\ttest: 0.6409321\tbest: 0.6415582 (118)\ttotal: 1.56s\tremaining: 239ms\n",
            "124:\ttest: 0.6414956\tbest: 0.6415582 (118)\ttotal: 1.57s\tremaining: 227ms\n",
            "125:\ttest: 0.6414956\tbest: 0.6415582 (118)\ttotal: 1.58s\tremaining: 213ms\n",
            "126:\ttest: 0.6414956\tbest: 0.6415582 (118)\ttotal: 1.58s\tremaining: 200ms\n",
            "127:\ttest: 0.6415112\tbest: 0.6415582 (118)\ttotal: 1.59s\tremaining: 186ms\n",
            "128:\ttest: 0.6415112\tbest: 0.6415582 (118)\ttotal: 1.6s\tremaining: 174ms\n",
            "129:\ttest: 0.6417460\tbest: 0.6417460 (129)\ttotal: 1.6s\tremaining: 160ms\n",
            "130:\ttest: 0.6422468\tbest: 0.6422468 (130)\ttotal: 1.61s\tremaining: 148ms\n",
            "131:\ttest: 0.6416364\tbest: 0.6422468 (130)\ttotal: 1.64s\tremaining: 136ms\n",
            "132:\ttest: 0.6416364\tbest: 0.6422468 (130)\ttotal: 1.64s\tremaining: 123ms\n",
            "133:\ttest: 0.6417460\tbest: 0.6422468 (130)\ttotal: 1.66s\tremaining: 111ms\n",
            "134:\ttest: 0.6414799\tbest: 0.6422468 (130)\ttotal: 1.66s\tremaining: 98.4ms\n",
            "135:\ttest: 0.6419025\tbest: 0.6422468 (130)\ttotal: 1.68s\tremaining: 86.2ms\n",
            "136:\ttest: 0.6411669\tbest: 0.6422468 (130)\ttotal: 1.69s\tremaining: 73.9ms\n",
            "137:\ttest: 0.6411825\tbest: 0.6422468 (130)\ttotal: 1.7s\tremaining: 61.7ms\n",
            "138:\ttest: 0.6413234\tbest: 0.6422468 (130)\ttotal: 1.71s\tremaining: 49.2ms\n",
            "139:\ttest: 0.6416208\tbest: 0.6422468 (130)\ttotal: 1.72s\tremaining: 36.8ms\n",
            "140:\ttest: 0.6419338\tbest: 0.6422468 (130)\ttotal: 1.73s\tremaining: 24.5ms\n",
            "141:\ttest: 0.6422155\tbest: 0.6422468 (130)\ttotal: 1.74s\tremaining: 12.2ms\n",
            "142:\ttest: 0.6423250\tbest: 0.6423250 (142)\ttotal: 1.74s\tremaining: 0us\n",
            "\n",
            "bestTest = 0.6423250282\n",
            "bestIteration = 142\n",
            "\n"
          ],
          "name": "stdout"
        },
        {
          "output_type": "execute_result",
          "data": {
            "text/plain": [
              "<catboost.core.CatBoostClassifier at 0x23042547eb8>"
            ]
          },
          "metadata": {
            "tags": []
          },
          "execution_count": 72
        }
      ]
    },
    {
      "cell_type": "code",
      "metadata": {
        "id": "10ykmrgmqA08"
      },
      "source": [
        "preds = CatB.predict(X_test)"
      ],
      "execution_count": null,
      "outputs": []
    },
    {
      "cell_type": "code",
      "metadata": {
        "id": "PQeRiqPUqA1A",
        "outputId": "16b07931-e81e-413f-943a-132f32c93f9b"
      },
      "source": [
        "print(confusion_matrix(y_test, preds))"
      ],
      "execution_count": null,
      "outputs": [
        {
          "output_type": "stream",
          "text": [
            "[[419 233]\n",
            " [ 47  51]]\n"
          ],
          "name": "stdout"
        }
      ]
    },
    {
      "cell_type": "code",
      "metadata": {
        "id": "ou3MXBqKqA1F",
        "outputId": "5c74171d-167b-430d-d2bc-12c88e038dac"
      },
      "source": [
        "print(classification_report(y_test,preds))"
      ],
      "execution_count": null,
      "outputs": [
        {
          "output_type": "stream",
          "text": [
            "              precision    recall  f1-score   support\n",
            "\n",
            "           0       0.90      0.64      0.75       652\n",
            "           1       0.18      0.52      0.27        98\n",
            "\n",
            "    accuracy                           0.63       750\n",
            "   macro avg       0.54      0.58      0.51       750\n",
            "weighted avg       0.81      0.63      0.69       750\n",
            "\n"
          ],
          "name": "stdout"
        }
      ]
    },
    {
      "cell_type": "code",
      "metadata": {
        "id": "FbIqq0AdqA1K"
      },
      "source": [
        ""
      ],
      "execution_count": null,
      "outputs": []
    }
  ]
}